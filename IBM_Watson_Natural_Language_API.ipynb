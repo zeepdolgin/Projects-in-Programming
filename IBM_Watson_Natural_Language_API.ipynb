{
  "nbformat": 4,
  "nbformat_minor": 0,
  "metadata": {
    "kernelspec": {
      "display_name": "Python 3",
      "language": "python",
      "name": "python3"
    },
    "language_info": {
      "codemirror_mode": {
        "name": "ipython",
        "version": 3
      },
      "file_extension": ".py",
      "mimetype": "text/x-python",
      "name": "python",
      "nbconvert_exporter": "python",
      "pygments_lexer": "ipython3",
      "version": "3.6.7"
    },
    "colab": {
      "provenance": [],
      "include_colab_link": true
    }
  },
  "cells": [
    {
      "cell_type": "markdown",
      "metadata": {
        "id": "view-in-github",
        "colab_type": "text"
      },
      "source": [
        "<a href=\"https://colab.research.google.com/github/zeepdolgin/Projects-in-Programming/blob/main/IBM_Watson_Natural_Language_API.ipynb\" target=\"_parent\"><img src=\"https://colab.research.google.com/assets/colab-badge.svg\" alt=\"Open In Colab\"/></a>"
      ]
    },
    {
      "cell_type": "markdown",
      "metadata": {
        "id": "YpOyKprkg78J"
      },
      "source": [
        "# Interacting with the IBM Watson Natural Language Understanding API; POST vs GET\n",
        "\n",
        "Another useful API, especially when dealing with text, is the [IBM Watson  Natural Language Understanding API](https://console.bluemix.net/catalog/services/natural-language-understanding), which offers a variety of text analysis functionalities, such as sentiment analysis, entity extraction, keyword extraction, etc.\n",
        "\n",
        "We will give a couple of examples below, to understand how we can take an unstructured piece of text (either the text alone, or a URL with text), and extract some \"semi-structured\" representation of its content.\n",
        "\n",
        "\n",
        "\n",
        "## /analyze call\n",
        "\n",
        "We will first start with the `GET /analyze` API call ([documentation](https://www.ibm.com/watson/developercloud/natural-language-understanding/api/v1/#get-analyze)), which takes as input a piece of text, and returns an analysis across various dimensions.\n",
        "\n",
        "The call below gets as input a \"text\" variable, and returns back the sentiment of the text."
      ]
    },
    {
      "cell_type": "code",
      "metadata": {
        "id": "6o4aBLeBg78M"
      },
      "source": [
        "import requests\n",
        "import json\n",
        "\n",
        "def getSentiment(text):\n",
        "    endpoint = \"https://gateway.watsonplatform.net/natural-language-understanding/api/v1/analyze\"\n",
        "\n",
        "    # You can register and get your own credentials\n",
        "    # The ones below have a quota of 1000 calls per day\n",
        "    # and can run out quickly if multiple people use these\n",
        "    username = \"apikey\"\n",
        "    password = \"xSOLcYbCwXT5bRS36huaiwO9kO07_m1EaMa769hTMpcR\"\n",
        "\n",
        "    parameters = {\n",
        "        'features': 'emotion,sentiment',\n",
        "        'version' : '2018-11-16',\n",
        "        'text': text,\n",
        "        'language' : 'en',\n",
        "        # url = url_to_analyze, this is an alternative to sending the text\n",
        "    }\n",
        "\n",
        "    resp = requests.get(endpoint, params=parameters, auth=(username, password))\n",
        "\n",
        "    return resp.json()"
      ],
      "execution_count": null,
      "outputs": []
    },
    {
      "cell_type": "code",
      "metadata": {
        "id": "HCGGi4Sug78U"
      },
      "source": [
        "# We will analyze the text below using the IBM Watson API\n",
        "\n",
        "text = '''\n",
        "I got their Egg & Cheese sandwich on a Whole Wheat Everything Bagel.\n",
        "First off, I loved loved loved the texture of the bagel itself.\n",
        "It was very chewy yet soft, which is a top feature for a NY style bagel.\n",
        "However, I thought there could've been more seasoning on top of\n",
        "the bagel as I found the bagel itself to be a bit bland.\n",
        "\n",
        "Speaking of bland, I thought the egg and cheese filling were also quite bland.\n",
        "This was definitely lacking salt and pepper in the eggs and the cheese didn't\n",
        "really add too much flavor either, which was really disappointing!\n",
        "My mom also had the same complaint with her bagel sandwich\n",
        "(she had the egg sandwich on a blueberry bagel) so I definitely wasn't\n",
        "the only one.\n",
        "\n",
        "'''"
      ],
      "execution_count": null,
      "outputs": []
    },
    {
      "cell_type": "code",
      "metadata": {
        "id": "RRYAW9WHg78Y"
      },
      "source": [
        "data = getSentiment(text)\n",
        "data"
      ],
      "execution_count": null,
      "outputs": []
    },
    {
      "cell_type": "markdown",
      "metadata": {
        "id": "HofZ85yFg78c"
      },
      "source": [
        "Now, let's try to understand the structure of the answer. First, we check the high-level keys."
      ]
    },
    {
      "cell_type": "code",
      "metadata": {
        "id": "nD3qoCmMg78d"
      },
      "source": [
        "data.keys()"
      ],
      "execution_count": null,
      "outputs": []
    },
    {
      "cell_type": "markdown",
      "metadata": {
        "id": "itoPJcaNg78h"
      },
      "source": [
        "Now, let's check the content of these keys:"
      ]
    },
    {
      "cell_type": "code",
      "metadata": {
        "id": "0ewzjsNHg78i"
      },
      "source": [
        "data['language']"
      ],
      "execution_count": null,
      "outputs": []
    },
    {
      "cell_type": "code",
      "metadata": {
        "id": "wEMFHA_mg78n"
      },
      "source": [
        "data['sentiment']"
      ],
      "execution_count": null,
      "outputs": []
    },
    {
      "cell_type": "code",
      "metadata": {
        "id": "_UO7k-scg78r"
      },
      "source": [
        "data['emotion']"
      ],
      "execution_count": null,
      "outputs": []
    },
    {
      "cell_type": "code",
      "metadata": {
        "id": "sdBxICpHg78w"
      },
      "source": [
        "# Let's go deeper into the 'emotion' dictionary\n",
        "data['emotion']['document']"
      ],
      "execution_count": null,
      "outputs": []
    },
    {
      "cell_type": "code",
      "metadata": {
        "id": "T-A1ZJFyg780"
      },
      "source": [
        "# And a bit more\n",
        "data['emotion']['document']['emotion']"
      ],
      "execution_count": null,
      "outputs": []
    },
    {
      "cell_type": "markdown",
      "metadata": {
        "id": "19-vgKPag785"
      },
      "source": [
        "### Exercise\n",
        "\n",
        "Type your own piece of text, and analyze it to extract sentiment and emotions. Discuss your findings"
      ]
    },
    {
      "cell_type": "code",
      "metadata": {
        "id": "AO2SHOE7g786"
      },
      "source": [],
      "execution_count": null,
      "outputs": []
    },
    {
      "cell_type": "markdown",
      "metadata": {
        "id": "oFIwBAw9g789"
      },
      "source": [
        "## Entities call\n",
        "\n",
        "[Full Documentation of the call](https://www.ibm.com/watson/developercloud/natural-language-understanding/api/v1/#entities)\n",
        "\n",
        "This is a an API call that extracts entities from the text, and also the sentiment and emotion for each of these entities.\n",
        "\n",
        "There are two new technical aspects with this API. First of all, we use the command `requests.post` as opposed to `requests.get`. This happens because `GET` is designed to handle limited amount of data. When we have a large volume of data to send as parameters, then the HTTP protocol requires the use of the `POST` command. You will also see that the parameters that we pass are not \"flat\" as they used to be. Instead we submit the `watson_options` as the set of parameters, which is itself semi-structured.\n",
        "\n",
        "In terms of natural language processing, we will examine a couple of capabilities of the API. First, you will see that there is the capability of \"normalizing\" each entity, so that two different ways of saying the same thing get mapped to the same entity. So for example, \"President Trump\" and \"Donald Trump\" get mapped to the same Knowledge Graph entity."
      ]
    },
    {
      "cell_type": "code",
      "metadata": {
        "id": "S7MIA3sGg78-"
      },
      "source": [
        "import requests\n",
        "import json\n",
        "\n",
        "def processURL(url_to_analyze):\n",
        "    endpoint_watson = \"https://gateway.watsonplatform.net/natural-language-understanding/api/v1/analyze\"\n",
        "    params = {\n",
        "        'version': '2018-11-16',\n",
        "    }\n",
        "    headers = {\n",
        "        'Content-Type': 'application/json',\n",
        "    }\n",
        "    watson_options = {\n",
        "      \"url\": url_to_analyze,\n",
        "      \"features\": {\n",
        "        \"entities\": {\n",
        "          \"sentiment\": True,\n",
        "          \"emotion\": True,\n",
        "          \"limit\": 10\n",
        "        }\n",
        "      }\n",
        "    }\n",
        "    username = \"apikey\"\n",
        "    password = \"xSOLcYbCwXT5bRS36huaiwO9kO07_m1EaMa769hTMpcR\"\n",
        "\n",
        "    resp = requests.post(endpoint_watson,\n",
        "                         data=json.dumps(watson_options),\n",
        "                         headers=headers,\n",
        "                         params=params,\n",
        "                         auth=(username, password)\n",
        "                        )\n",
        "    return resp.json()"
      ],
      "execution_count": null,
      "outputs": []
    },
    {
      "cell_type": "code",
      "metadata": {
        "id": "cCfu7Mp8g79F"
      },
      "source": [
        "url_to_analyze = 'https://www.reuters.com/article/us-turkey-greece/erdogan-says-greece-sowing-chaos-in-mediterranean-idUSKBN25K25M/'\n",
        "\n",
        "data = processURL(url_to_analyze)"
      ],
      "execution_count": null,
      "outputs": []
    },
    {
      "cell_type": "code",
      "metadata": {
        "id": "TXcFMzpSg79L"
      },
      "source": [
        "# Let's see what we get back as top-level attributes\n",
        "data.keys()"
      ],
      "execution_count": null,
      "outputs": []
    },
    {
      "cell_type": "code",
      "metadata": {
        "scrolled": true,
        "id": "V0VyAAtSg79T"
      },
      "source": [
        "# Let' see the entities list\n",
        "data[\"entities\"]"
      ],
      "execution_count": null,
      "outputs": []
    },
    {
      "cell_type": "code",
      "metadata": {
        "id": "8X5VaaqCg79X"
      },
      "source": [
        "# Let' see the third entity. Notice the \"disambiguated\" attribute that\n",
        "# points to \"canonical\" versions of the entity, in DBPedia, Freebase, OpenCYC, YAGO, etc\n",
        "data[\"entities\"][2]"
      ],
      "execution_count": null,
      "outputs": []
    },
    {
      "cell_type": "code",
      "metadata": {
        "id": "vqm1dcxLg79f"
      },
      "source": [
        "# This function takes as input the result\n",
        "# from the IBM Watson API and returns a list\n",
        "# of entities that are relevant (above threshold)\n",
        "# to the article\n",
        "def getEntities(data, threshold):\n",
        "    result = []\n",
        "    for entity in data[\"entities\"]:\n",
        "        relevance = float(entity['relevance'])\n",
        "        if relevance > threshold:\n",
        "            result.append(entity['text'])\n",
        "    return result\n",
        "\n",
        "getEntities(data, 0.25)"
      ],
      "execution_count": null,
      "outputs": []
    },
    {
      "cell_type": "markdown",
      "metadata": {
        "collapsed": true,
        "id": "PVct5ns8g79m"
      },
      "source": [
        "### Exercise\n",
        "\n",
        "* First of all, **get your own credentials for the IBM Watson API**. The demo key that we use above has a limited quota.\n",
        "* Use an API to get news articles.\n",
        "    * Option 1: Use the API at https://newsapi.org to fetch the news from various sources. Print the entities that are currently being discussed in the news, together with their relevance value and the associated sentiment.\n",
        "    * Option 2: Use the NY Times API to fetch the Top Stories News. You can register and get an API key at https://developer.nytimes.com/. The `Top Stories V2 API` provides the details of the news of the day: (The API call documentation is at https://developer.nytimes.com/docs/top-stories-product/1/overview and the API Call is  https://api.nytimes.com/svc/topstories/v2/home.json?api-key=PUTYOURKEYHERE). Repeat the entity extraction process from above.\n",
        "    * Option 3: Use the Guardian API at https://open-platform.theguardian.com/documentation/ to fetch news from The Guardian.\n"
      ]
    },
    {
      "cell_type": "code",
      "metadata": {
        "id": "vylSuCdkg79n"
      },
      "source": [
        "import requests\n",
        "import json\n",
        "\n",
        "def processURL(url_to_analyze):\n",
        "    endpoint_watson = \"https://gateway.watsonplatform.net/natural-language-understanding/api/v1/analyze\"\n",
        "    params = {\n",
        "        'version': '2018-11-16',\n",
        "    }\n",
        "    headers = {\n",
        "        'Content-Type': 'application/json',\n",
        "    }\n",
        "    watson_options = {\n",
        "      \"url\": url_to_analyze,\n",
        "      \"features\": {\n",
        "        \"entities\": {\n",
        "          \"sentiment\": True,\n",
        "          \"emotion\": True,\n",
        "          \"limit\": 10\n",
        "        }\n",
        "      }\n",
        "    }\n",
        "    username = \"apikey\"\n",
        "    password = \"Nay0ctu_wpuI5VO0F4tA-gSc2Jj-rqVBxTRTf_9rwlWE\"\n",
        "\n",
        "    resp = requests.post(endpoint_watson,\n",
        "                         data=json.dumps(watson_options),\n",
        "                         headers=headers,\n",
        "                         params=params,\n",
        "                         auth=(username, password)\n",
        "                        )\n",
        "    return resp.json()\n",
        "\n",
        "\n",
        "\n"
      ],
      "execution_count": null,
      "outputs": []
    },
    {
      "cell_type": "code",
      "metadata": {
        "id": "Z8ClZVFL_cvF",
        "colab": {
          "base_uri": "https://localhost:8080/",
          "height": 34
        },
        "outputId": "9c0b0208-c560-434f-e760-405858f00066"
      },
      "source": [
        "import requests\n",
        "url = ('http://newsapi.org/v2/top-headlines?'\n",
        "       'country=us&'\n",
        "       'apiKey=4cb262450051464cbdcd2fdbb414581c')\n",
        "response = requests.get(url)\n",
        "data = response.json()\n",
        "data.keys()"
      ],
      "execution_count": null,
      "outputs": [
        {
          "output_type": "execute_result",
          "data": {
            "text/plain": [
              "dict_keys(['status', 'totalResults', 'articles'])"
            ]
          },
          "metadata": {
            "tags": []
          },
          "execution_count": 58
        }
      ]
    },
    {
      "cell_type": "code",
      "metadata": {
        "id": "ScNuRWk_AC13",
        "colab": {
          "base_uri": "https://localhost:8080/",
          "height": 1000
        },
        "outputId": "d879f6d4-edb4-4d31-b727-2ee1ce88e969"
      },
      "source": [
        "\n",
        "data['articles']\n"
      ],
      "execution_count": null,
      "outputs": [
        {
          "output_type": "execute_result",
          "data": {
            "text/plain": [
              "[{'author': 'Chris Isidore, CNN Business',\n",
              "  'content': None,\n",
              "  'description': 'Tesla, one of the best performing US stocks this year, just suffered its worst trading day since it went public 10 years ago.',\n",
              "  'publishedAt': '2020-09-08T22:03:00Z',\n",
              "  'source': {'id': 'cnn', 'name': 'CNN'},\n",
              "  'title': 'Tesla shares suffer their worst day ever - CNN',\n",
              "  'url': 'https://www.cnn.com/2020/09/08/investing/tesla-stock-plunge/index.html',\n",
              "  'urlToImage': 'https://cdn.cnn.com/cnnnext/dam/assets/200904201805-tesla-car-restricted-super-tease.jpg'},\n",
              " {'author': 'Krystie Lee Yandoli',\n",
              "  'content': 'Keeping Up With the Kardashians is ending after its upcoming season. In lengthy Instagram posts, Kim Kardashian West, Kris Jenner, and Khloe Kardashian said Season 20, the final season, is set to air… [+2565 chars]',\n",
              "  'description': '\"This show made us who we are and I will be forever in debt to everyone who played a role in shaping our careers and changing our lives forever,\" Kim Kardashian West wrote in an Instagram post.',\n",
              "  'publishedAt': '2020-09-08T21:50:00Z',\n",
              "  'source': {'id': None, 'name': 'BuzzFeed News'},\n",
              "  'title': '\"Keeping Up With The Kardashians\" Is Ending - BuzzFeed News',\n",
              "  'url': 'https://www.buzzfeednews.com/article/krystieyandoli/keeping-up-with-the-kardashians-ending',\n",
              "  'urlToImage': 'https://img.buzzfeed.com/buzzfeed-static/static/2020-09/8/22/campaign_images/d5a34da150f9/keeping-up-with-the-kardashians-is-ending-2-721-1599603947-3_dblbig.jpg'},\n",
              " {'author': None,\n",
              "  'content': 'A large, Phase 3 study testing a Covid-19 vaccine being developed by AstraZeneca and the University of Oxford at dozens of sites across the U.S. has been put on hold due to a suspected serious advers… [+4663 chars]',\n",
              "  'description': 'The large, Phase 3 study testing the vaccine has been put on hold due to a suspected serious adverse reaction in a participant in the U.K.',\n",
              "  'publishedAt': '2020-09-08T21:23:37Z',\n",
              "  'source': {'id': None, 'name': 'STAT'},\n",
              "  'title': 'AstraZeneca Covid-19 vaccine study is put on hold - STAT',\n",
              "  'url': 'https://www.statnews.com/2020/09/08/astrazeneca-covid-19-vaccine-study-put-on-hold-due-to-suspected-adverse-reaction-in-participant-in-the-u-k/',\n",
              "  'urlToImage': 'https://www.statnews.com/wp-content/uploads/2016/04/AP_090129060159-1024x576.jpg'},\n",
              " {'author': 'Heran Mamo',\n",
              "  'content': 'Lana Del Rey\\xa0chatted with her famed songwriter Jack Antonoff about her upcoming album\\xa0Chemtrails over the Country Club\\xa0for the cover of Interview Magazine Tuesday (Sept. 8).\\r\\nWith almost nine hours l… [+2944 chars]',\n",
              "  'description': '',\n",
              "  'publishedAt': '2020-09-08T21:05:11Z',\n",
              "  'source': {'id': None, 'name': 'Billboard'},\n",
              "  'title': \"Lana Del Rey Tells Jack Antonoff How She Got Joan Baez to Perform 'Diamonds & Rust' With Her - Billboard\",\n",
              "  'url': 'https://www.billboard.com/articles/columns/pop/9446073/lana-del-rey-jack-antonoff-interview-magazine-cover-story-joan-baez-diamonds-and-rust-performance',\n",
              "  'urlToImage': 'https://static.billboard.com/files/2020/09/Jack-Antonoff-and-Lana-Del-Rey-oct-2019-a-billboard-1548-1599595892-1024x677.jpg'},\n",
              " {'author': '',\n",
              "  'content': \"The first waiver-wire column of the Fantasy football season is always one of my favorites to write as we flip the page from the offseason to Week 1. That's because I get to marry the final Average Dr… [+15955 chars]\",\n",
              "  'description': \"You may have missed these players in your draft, but they're worth adding now.\",\n",
              "  'publishedAt': '2020-09-08T21:01:00Z',\n",
              "  'source': {'id': None, 'name': 'CBS Sports'},\n",
              "  'title': 'Fantasy Football Week 1 Waiver Wire: James Robinson, Darrel Williams headline the first post-draft group - CBS Sports',\n",
              "  'url': 'https://www.cbssports.com/fantasy/football/news/fantasy-football-week-1-waiver-wire-james-robinson-darrel-williams-headline-the-first-post-draft-group/',\n",
              "  'urlToImage': 'https://sportshub.cbsistatic.com/i/r/2019/10/27/4539bc75-04e6-497a-a9c3-e0a0e64fa284/thumbnail/1200x675/2f22549a40165d6fb2637a64961f10c3/edmonds.jpg'},\n",
              " {'author': 'Erika Edwards',\n",
              "  'content': 'More than 500,000 children in the United States have been diagnosed with COVID-19, the American Academy of Pediatrics reported Tuesday, and the rate of new cases among kids continues to rise.\\r\\nFrom A… [+2545 chars]',\n",
              "  'description': 'How many kids have had COVID-19? A half-million children have been diagnosed with the coronavirus. Can kids get COVID? Can kids spread COVID?',\n",
              "  'publishedAt': '2020-09-08T20:56:00Z',\n",
              "  'source': {'id': 'nbc-news', 'name': 'NBC News'},\n",
              "  'title': 'More than half a million children in the U.S. have had COVID-19 - NBC News',\n",
              "  'url': 'https://www.nbcnews.com/health/health-news/more-half-million-children-u-s-have-had-covid-19-n1239554',\n",
              "  'urlToImage': 'https://media3.s-nbcnews.com/j/newscms/2020_37/3410607/200908-coronavirus-test-child-ew-419p_899557fb75587b463c19d8971f7eee59.nbcnews-fp-1200-630.jpg'},\n",
              " {'author': 'Linah Alsaafin',\n",
              "  'content': 'An Arab League meeting on Wednesday will focus on the Palestinian cause after the Israel-UAE \"normalisation\" deal, with analysts suggesting division rather than usual unity on the issue will dominate… [+5077 chars]',\n",
              "  'description': 'Arab foreign ministers will attend a virtual session against the backdrop of UAE normalising relations with Israel.',\n",
              "  'publishedAt': '2020-09-08T20:55:00Z',\n",
              "  'source': {'id': 'al-jazeera-english', 'name': 'Al Jazeera English'},\n",
              "  'title': 'Arab League division over Palestinian cause to dominate talks - Al Jazeera English',\n",
              "  'url': 'https://www.aljazeera.com/news/2020/09/arab-league-division-palestinian-dominate-talks-200908184552802.html',\n",
              "  'urlToImage': 'https://www.aljazeera.com/mritems/Images/2020/2/1/f0e8e6c0738d487ea387bdcb18bcbfec_18.jpg'},\n",
              " {'author': 'Kelly Tyko',\n",
              "  'content': 'Move over cheese plates, candy boards are taking over Instagram. We show you how to make your very own.\\r\\nReviewed.com\\r\\nDavid Klein, who calls himself \"a real-life\\xa0Candyman\" and the founder of Jelly B… [+4867 chars]',\n",
              "  'description': 'Is this a real-life Willy Wonka contest? David Klein, founder of Jelly Belly jelly beans, plans to host a series of treasure hunts with Gold Tickets.',\n",
              "  'publishedAt': '2020-09-08T20:51:43Z',\n",
              "  'source': {'id': 'usa-today', 'name': 'USA Today'},\n",
              "  'title': 'Win a golden ticket and a candy factory? Jelly Belly founder has Gold Ticket treasure hunt but be prepared to pay - USA TODAY',\n",
              "  'url': 'https://www.usatoday.com/story/money/2020/09/08/gold-ticket-treasure-hunt-candy-factory-contest/5745616002/',\n",
              "  'urlToImage': 'https://www.gannett-cdn.com/-mm-/c4ff156bfef11d468e2b233282a16eb1303f6aa4/c=0-39-768-473/local/-/media/2015/03/31/USATODAY/USATODAY/635634081499899422-jellybellybeans.JPG?width=1600&height=800&fit=crop'},\n",
              " {'author': 'Megan Raposa',\n",
              "  'content': 'COVID-19 widespread testing is crucial to fighting the pandemic, but is there enough testing? The answer is in the positivity rates.\\r\\nUSA TODAY\\r\\nSIOUX FALLS, S.D. A study by a California research gro… [+5592 chars]',\n",
              "  'description': 'A study by a California research group estimates that the Sturgis motorcycle rally in South Dakota\\xa0led to more than 260,000 coronavirus cases.',\n",
              "  'publishedAt': '2020-09-08T20:29:31Z',\n",
              "  'source': {'id': 'usa-today', 'name': 'USA Today'},\n",
              "  'title': 'SD governor criticizes study suggesting Sturgis bike rally led to 260,000 COVID-19 cases - USA TODAY',\n",
              "  'url': 'https://www.usatoday.com/story/news/nation/2020/09/08/study-260-000-coronavirus-cases-likely-tied-sturgis-rally/5750587002/',\n",
              "  'urlToImage': 'https://www.gannett-cdn.com/presto/2020/08/07/PSIF/ad5775b8-e100-4b23-a487-f02f81014974-AP20220695338030.jpg?crop=2999,1687,x0,y152&width=1600&height=800&fit=bounds'},\n",
              " {'author': 'CBS Sacramento',\n",
              "  'content': 'EL DORADO COUNTY (CBS13) Firefighters are monitoring a new wildfire in the Eldorado National Forest.\\r\\nThe fire, which has been dubbed the Fork Fire, started late Tuesday morning and is burning near t… [+696 chars]',\n",
              "  'description': 'Firefighters are monitoring a new wildfire in the Eldorado National Forest.',\n",
              "  'publishedAt': '2020-09-08T20:26:00Z',\n",
              "  'source': {'id': None, 'name': 'Cbslocal.com'},\n",
              "  'title': 'Firefighters Responding To New Wind-Driven Wildfire In Eldorado National Forest - CBS Sacramento',\n",
              "  'url': 'https://sacramento.cbslocal.com/2020/09/08/fork-fire-eldorado-nf-updates/',\n",
              "  'urlToImage': 'https://sacramento.cbslocal.com/wp-content/uploads/sites/15909776/2020/09/bunker-hill-eldorado-fire.jpg?w=1500'},\n",
              " {'author': 'David M. Hale',\n",
              "  'content': \"Clemson quarterback Trevor Lawrence emerged as one of college football's leading voices for social justice reforms this offseason, but he said Tuesday that he doesn't envision himself as an activist.… [+4710 chars]\",\n",
              "  'description': 'While Clemson QB Trevor Lawrence has done his share to help college athletes find a voice on issues this offseason, he doesn\\'t see himself as an activist. Said Lawrence: \"I do think I have a responsibility to promote equality and help the people I love.\"',\n",
              "  'publishedAt': '2020-09-08T20:13:53Z',\n",
              "  'source': {'id': None, 'name': 'ESPN'},\n",
              "  'title': \"Clemson QB Trevor Lawrence says he uses his voice, but he's not an activist - ESPN\",\n",
              "  'url': 'https://www.espn.com/college-football/story/_/id/29839265/clemson-qb-trevor-lawrence-says-uses-voice-not-activist',\n",
              "  'urlToImage': 'https://a3.espncdn.com/combiner/i?img=%2Fphoto%2F2020%2F0902%2Fr739395_1296x729_16%2D9.jpg'},\n",
              " {'author': None,\n",
              "  'content': None,\n",
              "  'description': None,\n",
              "  'publishedAt': '2020-09-08T20:04:42Z',\n",
              "  'source': {'id': 'google-news', 'name': 'Google News'},\n",
              "  'title': 'Harris Says She Would Trust a Covid-19 Vaccine Approved by Scientists - Bloomberg QuickTake News',\n",
              "  'url': 'https://news.google.com/__i/rss/rd/articles/CBMiK2h0dHBzOi8vd3d3LnlvdXR1YmUuY29tL3dhdGNoP3Y9Yk1ZVjVMMU96Y0XSAQA?oc=5',\n",
              "  'urlToImage': None},\n",
              " {'author': '',\n",
              "  'content': 'The mouse on the right has been engineered to have four times the muscle mass of a normal lab mouse. A drug to achieve the same effect was recently tested in space.\\r\\nSe-Jin Lee/PLOS One\\r\\nSome mighty … [+3223 chars]',\n",
              "  'description': 'An experiment involving some \"mighty mice\" on the International Space Station could someday help astronauts maintain muscle and bone strength on interplanetary journeys.',\n",
              "  'publishedAt': '2020-09-08T19:49:55Z',\n",
              "  'source': {'id': None, 'name': 'NPR'},\n",
              "  'title': 'Musclebound Mice Thrived In Space With The Help Of A Drug : Shots - Health News - NPR',\n",
              "  'url': 'https://www.npr.org/sections/health-shots/2020/09/08/910776985/drug-that-bulked-up-mice-in-space-might-someday-help-astronauts-make-long-voyage',\n",
              "  'urlToImage': 'https://media.npr.org/assets/img/2020/09/08/mightymice_wide-00ec329d77561b310b58f89b01a7be020e8d894b.jpg?s=1400'},\n",
              " {'author': 'Lynn La',\n",
              "  'content': 'The current iPhone 11.\\r\\nAngela Lang/CNET\\r\\nThis story is part of Apple Event, our full coverage of the latest news from Apple headquarters.\\r\\nIn August, Apple apparently leaked a Sept. 10 event date on… [+12096 chars]',\n",
              "  'description': \"Ten standout rumors we've heard about the upcoming iPhone 12, 12 Pro and 12 Pro Max.\",\n",
              "  'publishedAt': '2020-09-08T19:39:00Z',\n",
              "  'source': {'id': None, 'name': 'CNET'},\n",
              "  'title': 'iPhone 12 rumors: Apple likely to launch new 5G iPhone in October - CNET',\n",
              "  'url': 'https://www.cnet.com/news/iphone-12-rumors-apple-likely-to-launch-new-5g-iphone-in-october/',\n",
              "  'urlToImage': 'https://cnet2.cbsistatic.com/img/5e9x1tsp0ZPKq92ZbHdUiKDTAY0=/2019/11/22/230eaa90-b1f5-40f0-a1ed-57493086c77b/apple-iphone-11-5.jpg'},\n",
              " {'author': 'Edgar Sandoval, Michael Wilson',\n",
              "  'content': 'The lawsuit singled out several officers on the scene that morning, including Officer Mark Vaughn, who held Mr. Prudes head to the pavement. \\r\\nThe lawsuit and the resignations are the latest developm… [+1453 chars]',\n",
              "  'description': 'Rochester’s mayor said the police chief and the entire police command were stepping down, days after the state attorney general said a grand jury would look into the death of Daniel Prude.',\n",
              "  'publishedAt': '2020-09-08T19:37:00Z',\n",
              "  'source': {'id': None, 'name': 'New York Times'},\n",
              "  'title': 'Rochester Police Chief Resigns After Accusations of Cover-Up in Prude Case - The New York Times',\n",
              "  'url': 'https://www.nytimes.com/2020/09/08/nyregion/rochester-police-chief-resigns-prude.html',\n",
              "  'urlToImage': 'https://static01.nyt.com/images/2020/09/08/nyregion/SINGLETARY2/SINGLETARY2-facebookJumbo-v2.jpg'},\n",
              " {'author': 'Jeff Grubb',\n",
              "  'content': 'Microsoft realized something. You could launch a much more affordable next-generation console if you reduced the emphasis on resolution. The company has now taken that realization and acted on it wit… [+3399 chars]',\n",
              "  'description': 'Microsoft finally confirmed the Xbox Series S, and the next-gen console makes more sense than any other new box in the year 2020.',\n",
              "  'publishedAt': '2020-09-08T19:14:00Z',\n",
              "  'source': {'id': None, 'name': 'VentureBeat'},\n",
              "  'title': 'Xbox Series S is the right next-gen console for 2020 - VentureBeat',\n",
              "  'url': 'https://venturebeat.com/2020/09/08/xbox-series-s-is-the-right-next-gen-console-for-2020/',\n",
              "  'urlToImage': 'https://venturebeat.com/wp-content/uploads/2020/09/xbox-series-s-bulletpoints.jpg?w=1200&strip=all'},\n",
              " {'author': 'Stephen Nellis',\n",
              "  'content': '(Reuters) - Apple Inc (AAPL.O) on Tuesday filed counter claims against “Fortnite” creator Epic Games asking for lost App Store fees and other damages, and seeking an order to stop the game maker from… [+1810 chars]',\n",
              "  'description': 'Apple Inc on Tuesday filed counter claims against \"Fortnite\" creator Epic Games asking for lost App Store fees and other damages, and seeking an order to stop the game maker from operating its own in-app payment system.',\n",
              "  'publishedAt': '2020-09-08T19:01:00Z',\n",
              "  'source': {'id': 'reuters', 'name': 'Reuters'},\n",
              "  'title': \"Apple seeks damages from 'Fortnite' creator in App Store dispute - Reuters\",\n",
              "  'url': 'https://www.reuters.com/article/us-apple-epic-games-idUSKBN25Z30E',\n",
              "  'urlToImage': 'https://s4.reutersmedia.net/resources/r/?m=02&d=20200908&t=2&i=1532640147&w=1200&r=LYNXMPEG871NU'},\n",
              " {'author': None,\n",
              "  'content': 'Some Colorado residents woke up to something that felt crazy after sweltering through the Labor Day weekend: snow. \\r\\nThis roller coaster forecast was \"truly something that I\\'ve never seen,\" says assi… [+2552 chars]',\n",
              "  'description': 'Parts of the Front Range hit 100 degrees over the weekend then woke up to snow on Tuesday.  Meteorologists will track whether the enormous swing set a new record in the U.S.',\n",
              "  'publishedAt': '2020-09-08T18:58:36Z',\n",
              "  'source': {'id': None, 'name': 'NPR'},\n",
              "  'title': \"In 48 Hours, Colorado's Wild Weather Sets Records For Both Heat And Snow - NPR\",\n",
              "  'url': 'https://www.npr.org/2020/09/08/910677557/in-48-hours-colorados-wild-weather-sets-records-for-both-heat-and-snow',\n",
              "  'urlToImage': 'https://media.npr.org/assets/img/2020/09/08/snow_wide-97fbc8556464a162ce8d51a97cb043ad27bb05f3.jpg?s=1400'},\n",
              " {'author': 'Leada Gore | lgore@al.com',\n",
              "  'content': 'The Senate is expected to vote on a new stripped-down coronavirus relief package this week.\\r\\nSenate Majority Leader Mitch McConnell said the targeted proposal focuses on some of the very most urgent … [+1584 chars]',\n",
              "  'description': 'Republicans unveil a new stimulus package.',\n",
              "  'publishedAt': '2020-09-08T18:50:00Z',\n",
              "  'source': {'id': None, 'name': 'AL.com'},\n",
              "  'title': 'Second stimulus check: Republicans unveil coronavirus relief bill; Is second stimulus included? - al.com',\n",
              "  'url': 'https://www.al.com/news/2020/09/second-stimulus-check-republicans-unveil-coronavirus-relief-bill-is-second-stimulus-included.html',\n",
              "  'urlToImage': 'https://www.al.com/resizer/TrvP68bclx24XvSwpX4vfJEXseU=/1280x0/smart/cloudfront-us-east-1.images.arcpublishing.com/advancelocal/YVMBLBEF65CGHD4BI7NEJG22SE.jpg'},\n",
              " {'author': '',\n",
              "  'content': \"A relative prays at the Mártires 19 de Julio Cemetery on the outskirts of Lima, Peru, on Aug. 20. Peru has one of the world's highest per capita coronavirus-related death tolls, according to Johns Ho… [+5396 chars]\",\n",
              "  'description': 'Peru\\'s per capita COVID-19 death rate is higher than any nation\\'s except for tiny San Marino. The government\\'s awareness campaign slogan is \"COVID does not kill by itself. Let\\'s not be accomplices.\"',\n",
              "  'publishedAt': '2020-09-08T18:41:00Z',\n",
              "  'source': {'id': None, 'name': 'NPR'},\n",
              "  'title': 'Peru Locked Down Early. Now It Battles One Of The Worst Coronavirus Outbreaks - NPR',\n",
              "  'url': 'https://www.npr.org/2020/09/08/907084962/peru-locked-down-early-now-it-battles-one-of-the-worst-coronavirus-outbreaks',\n",
              "  'urlToImage': 'https://media.npr.org/assets/img/2020/08/28/gettyimages-1267384421_wide-e7acfc1a8e48feeef2837963ed6b8d5497605005.jpg?s=1400'}]"
            ]
          },
          "metadata": {
            "tags": []
          },
          "execution_count": 62
        }
      ]
    },
    {
      "cell_type": "code",
      "metadata": {
        "id": "3fybAscCASNJ",
        "colab": {
          "base_uri": "https://localhost:8080/",
          "height": 377
        },
        "outputId": "b342ff09-2b2a-42f2-de25-d6b68fff395e"
      },
      "source": [
        "urls = []\n",
        "for article in data['articles']:\n",
        "  urls.append(article['url'])\n",
        "\n",
        "urls"
      ],
      "execution_count": null,
      "outputs": [
        {
          "output_type": "execute_result",
          "data": {
            "text/plain": [
              "['https://www.cnn.com/2020/09/08/investing/tesla-stock-plunge/index.html',\n",
              " 'https://www.buzzfeednews.com/article/krystieyandoli/keeping-up-with-the-kardashians-ending',\n",
              " 'https://www.statnews.com/2020/09/08/astrazeneca-covid-19-vaccine-study-put-on-hold-due-to-suspected-adverse-reaction-in-participant-in-the-u-k/',\n",
              " 'https://www.billboard.com/articles/columns/pop/9446073/lana-del-rey-jack-antonoff-interview-magazine-cover-story-joan-baez-diamonds-and-rust-performance',\n",
              " 'https://www.cbssports.com/fantasy/football/news/fantasy-football-week-1-waiver-wire-james-robinson-darrel-williams-headline-the-first-post-draft-group/',\n",
              " 'https://www.nbcnews.com/health/health-news/more-half-million-children-u-s-have-had-covid-19-n1239554',\n",
              " 'https://www.aljazeera.com/news/2020/09/arab-league-division-palestinian-dominate-talks-200908184552802.html',\n",
              " 'https://www.usatoday.com/story/money/2020/09/08/gold-ticket-treasure-hunt-candy-factory-contest/5745616002/',\n",
              " 'https://www.usatoday.com/story/news/nation/2020/09/08/study-260-000-coronavirus-cases-likely-tied-sturgis-rally/5750587002/',\n",
              " 'https://sacramento.cbslocal.com/2020/09/08/fork-fire-eldorado-nf-updates/',\n",
              " 'https://www.espn.com/college-football/story/_/id/29839265/clemson-qb-trevor-lawrence-says-uses-voice-not-activist',\n",
              " 'https://news.google.com/__i/rss/rd/articles/CBMiK2h0dHBzOi8vd3d3LnlvdXR1YmUuY29tL3dhdGNoP3Y9Yk1ZVjVMMU96Y0XSAQA?oc=5',\n",
              " 'https://www.npr.org/sections/health-shots/2020/09/08/910776985/drug-that-bulked-up-mice-in-space-might-someday-help-astronauts-make-long-voyage',\n",
              " 'https://www.cnet.com/news/iphone-12-rumors-apple-likely-to-launch-new-5g-iphone-in-october/',\n",
              " 'https://www.nytimes.com/2020/09/08/nyregion/rochester-police-chief-resigns-prude.html',\n",
              " 'https://venturebeat.com/2020/09/08/xbox-series-s-is-the-right-next-gen-console-for-2020/',\n",
              " 'https://www.reuters.com/article/us-apple-epic-games-idUSKBN25Z30E',\n",
              " 'https://www.npr.org/2020/09/08/910677557/in-48-hours-colorados-wild-weather-sets-records-for-both-heat-and-snow',\n",
              " 'https://www.al.com/news/2020/09/second-stimulus-check-republicans-unveil-coronavirus-relief-bill-is-second-stimulus-included.html',\n",
              " 'https://www.npr.org/2020/09/08/907084962/peru-locked-down-early-now-it-battles-one-of-the-worst-coronavirus-outbreaks']"
            ]
          },
          "metadata": {
            "tags": []
          },
          "execution_count": 70
        }
      ]
    },
    {
      "cell_type": "code",
      "metadata": {
        "id": "b-HQuaQIAUMW",
        "colab": {
          "base_uri": "https://localhost:8080/",
          "height": 214
        },
        "outputId": "04784f12-9005-4278-e00a-0b731a135bd3"
      },
      "source": [
        "entities = []\n",
        "for url in urls:\n",
        "  watson_response = processURL(url)\n",
        "  watson_entities = ...\n",
        "  for e in watson_entities:\n",
        "    entitie.append(e)"
      ],
      "execution_count": null,
      "outputs": [
        {
          "output_type": "error",
          "ename": "TypeError",
          "evalue": "ignored",
          "traceback": [
            "\u001b[0;31m---------------------------------------------------------------------------\u001b[0m",
            "\u001b[0;31mTypeError\u001b[0m                                 Traceback (most recent call last)",
            "\u001b[0;32m<ipython-input-71-6b0437ca1f4f>\u001b[0m in \u001b[0;36m<module>\u001b[0;34m()\u001b[0m\n\u001b[1;32m      3\u001b[0m   \u001b[0mwatson_response\u001b[0m \u001b[0;34m=\u001b[0m \u001b[0mprocessURL\u001b[0m\u001b[0;34m(\u001b[0m\u001b[0murl\u001b[0m\u001b[0;34m)\u001b[0m\u001b[0;34m\u001b[0m\u001b[0;34m\u001b[0m\u001b[0m\n\u001b[1;32m      4\u001b[0m   \u001b[0mwatson_entities\u001b[0m \u001b[0;34m=\u001b[0m \u001b[0;34m...\u001b[0m\u001b[0;34m\u001b[0m\u001b[0;34m\u001b[0m\u001b[0m\n\u001b[0;32m----> 5\u001b[0;31m   \u001b[0;32mfor\u001b[0m \u001b[0me\u001b[0m \u001b[0;32min\u001b[0m \u001b[0mwatson_entities\u001b[0m\u001b[0;34m:\u001b[0m\u001b[0;34m\u001b[0m\u001b[0;34m\u001b[0m\u001b[0m\n\u001b[0m\u001b[1;32m      6\u001b[0m     \u001b[0mentitie\u001b[0m\u001b[0;34m.\u001b[0m\u001b[0mappend\u001b[0m\u001b[0;34m(\u001b[0m\u001b[0me\u001b[0m\u001b[0;34m)\u001b[0m\u001b[0;34m\u001b[0m\u001b[0;34m\u001b[0m\u001b[0m\n",
            "\u001b[0;31mTypeError\u001b[0m: 'ellipsis' object is not iterable"
          ]
        }
      ]
    }
  ]
}