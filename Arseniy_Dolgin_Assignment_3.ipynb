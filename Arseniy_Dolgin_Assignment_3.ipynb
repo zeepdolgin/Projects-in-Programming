{
  "nbformat": 4,
  "nbformat_minor": 0,
  "metadata": {
    "kernelspec": {
      "display_name": "Python 3",
      "language": "python",
      "name": "python3"
    },
    "language_info": {
      "codemirror_mode": {
        "name": "ipython",
        "version": 3
      },
      "file_extension": ".py",
      "mimetype": "text/x-python",
      "name": "python",
      "nbconvert_exporter": "python",
      "pygments_lexer": "ipython3",
      "version": "3.6.6"
    },
    "colab": {
      "provenance": [],
      "include_colab_link": true
    }
  },
  "cells": [
    {
      "cell_type": "markdown",
      "metadata": {
        "id": "view-in-github",
        "colab_type": "text"
      },
      "source": [
        "<a href=\"https://colab.research.google.com/github/zeepdolgin/Projects-in-Programming/blob/main/Arseniy_Dolgin_Assignment_3.ipynb\" target=\"_parent\"><img src=\"https://colab.research.google.com/assets/colab-badge.svg\" alt=\"Open In Colab\"/></a>"
      ]
    },
    {
      "cell_type": "markdown",
      "metadata": {
        "id": "pM3A5nznJMcz"
      },
      "source": [
        "# Assignment 3: Food, Halloween, and Analytics"
      ]
    },
    {
      "cell_type": "markdown",
      "metadata": {
        "id": "uI9gMKgKJMc0"
      },
      "source": [
        "In this assignment you will practice crawling to fetch data from a website (allrecipes.com).\n",
        "\n",
        "You will then put your data into a Pandas dataframe and perform some analysis of the fetched recipes."
      ]
    },
    {
      "cell_type": "code",
      "metadata": {
        "id": "1nogzkQgJMc1"
      },
      "source": [
        "%matplotlib inline\n",
        "%config InlineBackend.figure_format = 'retina'"
      ],
      "execution_count": null,
      "outputs": []
    },
    {
      "cell_type": "code",
      "metadata": {
        "id": "VCcuy5UvJMc8",
        "colab": {
          "base_uri": "https://localhost:8080/"
        },
        "outputId": "425e6a92-33c1-44a7-a4f5-a724f5af0ffd"
      },
      "source": [
        "from lxml import html\n",
        "from xml.etree import ElementTree\n",
        "import matplotlib\n",
        "import matplotlib.pyplot as plt\n",
        "import numpy as np\n",
        "import pandas as pd\n",
        "import re\n",
        "import requests\n",
        "import seaborn as sns\n",
        "import statsmodels.formula.api as smf\n",
        "matplotlib.style.use(['seaborn-talk', 'seaborn-ticks', 'seaborn-whitegrid'])"
      ],
      "execution_count": null,
      "outputs": [
        {
          "output_type": "stream",
          "text": [
            "/usr/local/lib/python3.6/dist-packages/statsmodels/tools/_testing.py:19: FutureWarning: pandas.util.testing is deprecated. Use the functions in the public API at pandas.testing instead.\n",
            "  import pandas.util.testing as tm\n"
          ],
          "name": "stderr"
        }
      ]
    },
    {
      "cell_type": "markdown",
      "metadata": {
        "id": "VEQdJ_pXJMc_"
      },
      "source": [
        "## Task 1: Crawl AllRecipes.com"
      ]
    },
    {
      "cell_type": "markdown",
      "metadata": {
        "id": "g-f-_omhJMdA"
      },
      "source": [
        "We are getting ready for Halloween, and we want to cook some good food. No, good is not good enough. We want to first the BEST recipe for Heloween.\n",
        "\n",
        "But to find the best recipe, we need data.\n",
        "\n",
        "After a 1-min Google search, we find [a page that contains recipes for Halloween](https://www.allrecipes.com/recipes/189/holidays-and-events/halloween/). From a quick look on the webpage, we see that, for each recipe we have a title, a recipe URL, a brief description, a star rating, the number of reviews, and the name of the authors of the reciept.\n",
        "\n",
        "\n",
        "So, you need to write a crawler that will parse AllRecipes and fetch these data for the recipes. For this assignment, we will only fetch the data from the recipes from the results page; we will not fetch the recipes themselves."
      ]
    },
    {
      "cell_type": "code",
      "metadata": {
        "id": "TQRxE8CHJMdB"
      },
      "source": [
        "# Template code to get you started. This code gets as input an HTML page\n",
        "# and extracts the list of recipes that are listed there.\n",
        "\n",
        "def get_recipes_from_page(url):\n",
        "    doc = html.fromstring(requests.get(url).text)\n",
        "    recipes = doc.xpath('//div[@class=\"component card card__category\"]')\n",
        "    result = []\n",
        "    for r in recipes:\n",
        "\n",
        "        # DEBUGING CODE. Use it to print out the HTML of the \"recipe card\"\n",
        "        # html_str = ElementTree.tostring(r).decode()\n",
        "        # print(html_str)\n",
        "        # print(\"=============================\\n=============================\")\n",
        "        # continue\n",
        "\n",
        "        # As a freebie, this is the code that counts the number\n",
        "        # of stars for the recipe by counting the number of\n",
        "        # \"span\" elements with class being \"rating-star active\"\n",
        "        # If there are no stars, that entry is not a recipe, and\n",
        "        # we do not add the entry in the results\n",
        "        rating = len(r.xpath('.//span[@class=\"rating-star active\"]'))\n",
        "        if rating == 0:\n",
        "          continue\n",
        "\n",
        "        ### WRITE YOUR CODE HERE.\n",
        "        # Your XPath queries should identify the corresponding parts of the page\n",
        "        # that contain the information that you need.\n",
        "        title = r.xpath('.//h3[@class=\"card__title\"]/text()')[0]\n",
        "        title = re.sub('\\s+',' ',title)\n",
        "\n",
        "\n",
        "        recipe_url = str(r.xpath('.//a[@class=\"card__titleLink manual-link-behavior\"]/@href')[0])\n",
        "\n",
        "\n",
        "        description = r.xpath('.//div[@class=\"card__summary\"]/text()')[0]\n",
        "        description = re.sub('\\s+',' ',description)\n",
        "\n",
        "\n",
        "        num_reviews = r.xpath('.//span[@class=\"card__ratingCount card__metaDetailText\"]/text()')[0]\n",
        "        num_reviews = int(re.sub('/s+',' ', num_reviews))\n",
        "\n",
        "        author = str(r.xpath('.//span[@class=\"card__authorName\"]/text()')[0])\n",
        "\n",
        "        entry = {\n",
        "            'title' : title,\n",
        "            'recipe_url' : recipe_url,\n",
        "            'description' : description,\n",
        "            'rating' : rating,\n",
        "            'reviews' : int(num_reviews),\n",
        "            'author' : author\n",
        "        }\n",
        "        result.append(entry)\n",
        "\n",
        "    return result\n",
        ""
      ],
      "execution_count": null,
      "outputs": []
    },
    {
      "cell_type": "code",
      "metadata": {
        "id": "oW3W7REAJMdE",
        "colab": {
          "base_uri": "https://localhost:8080/"
        },
        "outputId": "b97b3034-0c42-4bd2-a0be-57121920c44e"
      },
      "source": [
        "test_url = 'https://www.allrecipes.com/recipes/1090/fruits-and-vegetables/vegetables/squash/winter-squash/pumpkin/'\n",
        "get_recipes_from_page(test_url)"
      ],
      "execution_count": null,
      "outputs": [
        {
          "output_type": "execute_result",
          "data": {
            "text/plain": [
              "[{'author': 'JES55',\n",
              "  'description': ' What better way to celebrate fall than with delicious muffins that combine the wonderful texture of apples with the warm taste of pumpkin. A simple streusel topping gives them a little something extra. ',\n",
              "  'rating': 5,\n",
              "  'recipe_url': 'https://www.allrecipes.com/recipe/20237/pumpkin-apple-streusel-muffins/',\n",
              "  'reviews': 962,\n",
              "  'title': ' Pumpkin Apple Streusel Muffins '},\n",
              " {'author': 'Kathy',\n",
              "  'description': ' A very easy and great tasting soup. ',\n",
              "  'rating': 4,\n",
              "  'recipe_url': 'https://www.allrecipes.com/recipe/13473/harvest-pumpkin-soup/',\n",
              "  'reviews': 75,\n",
              "  'title': ' Harvest Pumpkin Soup '},\n",
              " {'author': 'Chef John',\n",
              "  'description': ' This basic pancake recipe turns into a delicious holiday breakfast simply by adding pumpkin and some fall spices! ',\n",
              "  'rating': 5,\n",
              "  'recipe_url': 'https://www.allrecipes.com/recipe/219167/chef-johns-pumpkin-pancakes/',\n",
              "  'reviews': 250,\n",
              "  'title': \" Chef John's Pumpkin Pancakes \"},\n",
              " {'author': 'Renee',\n",
              "  'description': ' This is a wonderful pumpkin cheesecake with a gingersnap crust. The gingersnap really does make a difference. ',\n",
              "  'rating': 5,\n",
              "  'recipe_url': 'https://www.allrecipes.com/recipe/23046/marbled-pumpkin-cheesecake/',\n",
              "  'reviews': 658,\n",
              "  'title': ' Marbled Pumpkin Cheesecake '},\n",
              " {'author': 'MegChaseWal',\n",
              "  'description': ' This sauce is great over pumpkin or cheese ravioli! ',\n",
              "  'rating': 4,\n",
              "  'recipe_url': 'https://www.allrecipes.com/recipe/245025/creamy-pumpkin-sauce/',\n",
              "  'reviews': 22,\n",
              "  'title': ' Creamy Pumpkin Sauce '},\n",
              " {'author': 'Gremolata',\n",
              "  'description': \" I came up with this recipe when I wanted something seasonal for sloppy joes. Mix the dough in the morning and then refrigerate it until a couple hours before you want to serve the rolls. The technique for stenciling on a design using rye flour will work for any holiday. Rye flour doesn't get absorbed into the dough like regular bread flour would. \",\n",
              "  'rating': 5,\n",
              "  'recipe_url': 'https://www.allrecipes.com/recipe/240006/pumpkin-sandwich-rolls/',\n",
              "  'reviews': 2,\n",
              "  'title': ' Pumpkin Sandwich Rolls '},\n",
              " {'author': 'The Gruntled Gourmand',\n",
              "  'description': \" I don't normally drink pumpkin spice lattes, but when I do, I make my own and don't drop 5 dollars at the corner coffee stand. And this version, with a spicy kick, actually has pumpkin in it! Cooking the pumpkin and the spices in the saucepan eliminates any raw squash flavor and makes the spices toastier. And the black pepper gives this latte a nice kick. \",\n",
              "  'rating': 4,\n",
              "  'recipe_url': 'https://www.allrecipes.com/recipe/239223/spicy-pumpkin-spice-latte/',\n",
              "  'reviews': 12,\n",
              "  'title': ' Spicy Pumpkin Spice Latte '},\n",
              " {'author': 'Stephanie',\n",
              "  'description': \" A thin pumpkin cake, rolled around in a white cream filling, then in nuts. Can be frozen and served chilled. Dust with confectioners' sugar, if desired. \",\n",
              "  'rating': 5,\n",
              "  'recipe_url': 'https://www.allrecipes.com/recipe/8126/pumpkin-roll-cake/',\n",
              "  'reviews': 397,\n",
              "  'title': ' Pumpkin Roll Cake '},\n",
              " {'author': 'Eagle brand',\n",
              "  'description': ' The one and only! EAGLE BRAND® makes this traditional dessert the perfect ending to a Thanksgiving feast. ',\n",
              "  'rating': 5,\n",
              "  'recipe_url': 'https://www.allrecipes.com/recipe/23439/perfect-pumpkin-pie/',\n",
              "  'reviews': 2301,\n",
              "  'title': ' Perfect Pumpkin Pie '},\n",
              " {'author': 'Nancy Scott',\n",
              "  'description': ' This recipe is made from fresh pumpkin, not canned. Hope you enjoy it as much as my family does. Happy Thanksgiving. ',\n",
              "  'rating': 5,\n",
              "  'recipe_url': 'https://www.allrecipes.com/recipe/13711/homemade-fresh-pumpkin-pie/',\n",
              "  'reviews': 568,\n",
              "  'title': ' Homemade Fresh Pumpkin Pie '},\n",
              " {'author': 'Laurie Bennett',\n",
              "  'description': ' This is a great old Maine recipe, moist and spicy. The bread actually tastes even better the day after it is baked. Great for holiday gift giving! ',\n",
              "  'rating': 5,\n",
              "  'recipe_url': 'https://www.allrecipes.com/recipe/6820/downeast-maine-pumpkin-bread/',\n",
              "  'reviews': 7566,\n",
              "  'title': ' Downeast Maine Pumpkin Bread '},\n",
              " {'author': 'Anonymous',\n",
              "  'description': ' These are good any season but taste best on cold winter mornings. You can use canned or cooked fresh pumpkin. ',\n",
              "  'rating': 5,\n",
              "  'recipe_url': 'https://www.allrecipes.com/recipe/17036/pumpkin-pancakes/',\n",
              "  'reviews': 2341,\n",
              "  'title': ' Pumpkin Pancakes '},\n",
              " {'author': 'Stephanie Phillips',\n",
              "  'description': ' A great alternative to pumpkin pie, especially for those cheesecake fans out there. Serve topped with whipped cream. ',\n",
              "  'rating': 5,\n",
              "  'recipe_url': 'https://www.allrecipes.com/recipe/13477/double-layer-pumpkin-cheesecake/',\n",
              "  'reviews': 2946,\n",
              "  'title': ' Double Layer Pumpkin Cheesecake '},\n",
              " {'author': 'Nestle Toll House',\n",
              "  'description': \" Whether you're hosting a festive party or a casual get-together with friends, our Famous Pumpkin Pie will make entertaining easy! \",\n",
              "  'rating': 5,\n",
              "  'recipe_url': 'https://www.allrecipes.com/recipe/22755/libbys-famous-pumpkin-pie/',\n",
              "  'reviews': 845,\n",
              "  'title': \" Libby's® Famous Pumpkin Pie \"},\n",
              " {'author': 'Carol',\n",
              "  'description': ' These pumpkin seeds make a great tasting and healthy snack. ',\n",
              "  'rating': 5,\n",
              "  'recipe_url': 'https://www.allrecipes.com/recipe/13839/spiced-pumpkin-seeds/',\n",
              "  'reviews': 826,\n",
              "  'title': ' Spiced Pumpkin Seeds '},\n",
              " {'author': 'Jackie Smith',\n",
              "  'description': ' An easy pumpkin roll dessert that tastes great. ',\n",
              "  'rating': 5,\n",
              "  'recipe_url': 'https://www.allrecipes.com/recipe/13731/pumpkin-roll-i/',\n",
              "  'reviews': 313,\n",
              "  'title': ' Pumpkin Roll I '},\n",
              " {'author': 'Lea Ogawa',\n",
              "  'description': \" This delicious, cream-like soup is served at our family's Thanksgiving dinner every year. \",\n",
              "  'rating': 4,\n",
              "  'recipe_url': 'https://www.allrecipes.com/recipe/9191/pumpkin-soup/',\n",
              "  'reviews': 572,\n",
              "  'title': ' Pumpkin Soup '},\n",
              " {'author': 'Kelly',\n",
              "  'description': ' Baked dog treats filled with pumpkin and peanut butter. ',\n",
              "  'rating': 5,\n",
              "  'recipe_url': 'https://www.allrecipes.com/recipe/133123/peanut-butter-and-pumpkin-dog-treats/',\n",
              "  'reviews': 883,\n",
              "  'title': ' Peanut Butter and Pumpkin Dog Treats '},\n",
              " {'author': 'Gina',\n",
              "  'description': ' Wonderful spicy iced pumpkin cookies that both kids and adults love! ',\n",
              "  'rating': 5,\n",
              "  'recipe_url': 'https://www.allrecipes.com/recipe/10033/iced-pumpkin-cookies/',\n",
              "  'reviews': 3418,\n",
              "  'title': ' Iced Pumpkin Cookies '},\n",
              " {'author': 'Tiera Lesley',\n",
              "  'description': ' This is a very creamy and yummy vanilla pumpkin dip that is served with graham crackers. I like the cinnamon graham crackers best, but you can decide for yourself. ',\n",
              "  'rating': 5,\n",
              "  'recipe_url': 'https://www.allrecipes.com/recipe/24740/pumpkin-fluff-dip/',\n",
              "  'reviews': 877,\n",
              "  'title': ' Pumpkin Fluff Dip '},\n",
              " {'author': 'BobAltman',\n",
              "  'description': \" 'Easy as pie' is just the case with this pie. \",\n",
              "  'rating': 5,\n",
              "  'recipe_url': 'https://www.allrecipes.com/recipe/229932/simple-pumpkin-pie/',\n",
              "  'reviews': 59,\n",
              "  'title': ' Simple Pumpkin Pie '},\n",
              " {'author': 'Georgia J. Llewellyn',\n",
              "  'description': \" I tinkered a bit with what I found in other recipes and this is the result. I think I like my results. I stirred in a small handful of tamari-flavored pumpkin seeds just before serving (couldn't find plain ones) and sprinkled a bit of paprika on top to make it look nice. \",\n",
              "  'rating': 4,\n",
              "  'recipe_url': 'https://www.allrecipes.com/recipe/230466/savory-pumpkin-hummus/',\n",
              "  'reviews': 44,\n",
              "  'title': ' Savory Pumpkin Hummus '},\n",
              " {'author': 'Javaru',\n",
              "  'description': ' This hearty pumpkin cupcake with a cinnamon-cream cheese frosting is good in the fall or any other time of the year. ',\n",
              "  'rating': 5,\n",
              "  'recipe_url': 'https://www.allrecipes.com/recipe/153245/pumpkin-spice-cupcakes/',\n",
              "  'reviews': 443,\n",
              "  'title': ' Pumpkin Spice Cupcakes '},\n",
              " {'author': 'Chickentarian',\n",
              "  'description': \" It can't get any easier than this! Just two ingredients and you have a moist delicious cake. Great when frosted with your favorite cream cheese frosting. Plan ahead, tastes best after chilling. \",\n",
              "  'rating': 5,\n",
              "  'recipe_url': 'https://www.allrecipes.com/recipe/77375/two-ingredient-pumpkin-cake/',\n",
              "  'reviews': 484,\n",
              "  'title': ' Two Ingredient Pumpkin Cake '},\n",
              " {'author': 'Chef John',\n",
              "  'description': \" After many years of experimentation, I've finally perfected what I think is the ideal formula for a rich pumpkin pie that's also much less likely to crack on top. Serve garnished with whipped cream and freshly grated nutmeg. \",\n",
              "  'rating': 5,\n",
              "  'recipe_url': 'https://www.allrecipes.com/recipe/230132/chef-johns-pumpkin-pie/',\n",
              "  'reviews': 652,\n",
              "  'title': \" Chef John's Pumpkin Pie \"},\n",
              " {'author': 'Carolyn Busch',\n",
              "  'description': ' There are different variations of this popular recipe. I think this is the easiest one to remember and to do. Serve cool with whipped cream. Make sure to sprinkle the butter over the cake mix evenly for the crunchiest topping. ',\n",
              "  'rating': 4,\n",
              "  'recipe_url': 'https://www.allrecipes.com/recipe/26060/pumpkin-dump-cake/',\n",
              "  'reviews': 164,\n",
              "  'title': ' Pumpkin Dump Cake '},\n",
              " {'author': 'WeibellMommy',\n",
              "  'description': ' Perfect holiday treat for you and your family to enjoy! Keep refrigerated; they taste MUCH better this way! ',\n",
              "  'rating': 5,\n",
              "  'recipe_url': 'https://www.allrecipes.com/recipe/229508/pumpkin-bars-with-cream-cheese-frosting/',\n",
              "  'reviews': 112,\n",
              "  'title': ' Pumpkin Bars with Cream Cheese Frosting '},\n",
              " {'author': 'SUE CASE',\n",
              "  'description': ' Delicious pumpkin spice cake baked in a sheet pan. Very moist and great for potlucks. When cool, top with your favorite cream cheese frosting. ',\n",
              "  'rating': 5,\n",
              "  'recipe_url': 'https://www.allrecipes.com/recipe/19079/pumpkin-cake-iii/',\n",
              "  'reviews': 813,\n",
              "  'title': ' Pumpkin Cake III '},\n",
              " {'author': 'CINDYCOSTA',\n",
              "  'description': ' Enjoy this great pumpkin muffin recipe. These muffins stay very moist and fresh for at least a week. They taste good even when frozen and defrosted. ',\n",
              "  'rating': 4,\n",
              "  'recipe_url': 'https://www.allrecipes.com/recipe/93290/easy-pumpkin-muffins/',\n",
              "  'reviews': 757,\n",
              "  'title': ' Easy Pumpkin Muffins '},\n",
              " {'author': 'V. Stogner',\n",
              "  'description': ' A delicious pumpkin cookie that can be eaten single or filled with whoopie pie filling to make it even better. ',\n",
              "  'rating': 5,\n",
              "  'recipe_url': 'https://www.allrecipes.com/recipe/11331/pumpkin-whoopie-pies/',\n",
              "  'reviews': 416,\n",
              "  'title': ' Pumpkin Whoopie Pies '},\n",
              " {'author': 'CroqueMadame',\n",
              "  'description': ' A twist on a classic brownie recipe--perfect for fall! Rich chocolate flavors are nicely complemented by pumpkin and spices. ',\n",
              "  'rating': 5,\n",
              "  'recipe_url': 'https://www.allrecipes.com/recipe/211165/pumpkin-brownies/',\n",
              "  'reviews': 337,\n",
              "  'title': ' Pumpkin Brownies '},\n",
              " {'author': 'Nora LaCroix',\n",
              "  'description': ' A great tasting cake, and really easy to make! ',\n",
              "  'rating': 5,\n",
              "  'recipe_url': 'https://www.allrecipes.com/recipe/13483/pumpkin-crunch-cake/',\n",
              "  'reviews': 396,\n",
              "  'title': ' Pumpkin Crunch Cake '},\n",
              " {'author': 'Nancy',\n",
              "  'description': ' This is a very easy cake made with canned pumpkin and yellow cake mix. Serve with vanilla ice cream or whipped cream. ',\n",
              "  'rating': 5,\n",
              "  'recipe_url': 'https://www.allrecipes.com/recipe/8404/great-pumpkin-dessert/',\n",
              "  'reviews': 523,\n",
              "  'title': ' Great Pumpkin Dessert '},\n",
              " {'author': 'Esther Loveall Saunders',\n",
              "  'description': ' My take on a traditional pumpkin empanada! Adjust all spices to your taste. ',\n",
              "  'rating': 5,\n",
              "  'recipe_url': 'https://www.allrecipes.com/recipe/216489/mexican-pumpkin-empanadas/',\n",
              "  'reviews': 78,\n",
              "  'title': ' Mexican Pumpkin Empanadas '}]"
            ]
          },
          "metadata": {
            "tags": []
          },
          "execution_count": 5
        }
      ]
    },
    {
      "cell_type": "code",
      "metadata": {
        "id": "xlqDo2guJMdK",
        "colab": {
          "base_uri": "https://localhost:8080/",
          "height": 1000
        },
        "outputId": "376b988a-ecfe-47a7-d4a5-cac6c1c4fca3"
      },
      "source": [
        "# Create a dataframe with the recipes just to check that we have things right\n",
        "df = pd.DataFrame(get_recipes_from_page(test_url))\n",
        "df"
      ],
      "execution_count": null,
      "outputs": [
        {
          "output_type": "execute_result",
          "data": {
            "text/html": [
              "<div>\n",
              "<style scoped>\n",
              "    .dataframe tbody tr th:only-of-type {\n",
              "        vertical-align: middle;\n",
              "    }\n",
              "\n",
              "    .dataframe tbody tr th {\n",
              "        vertical-align: top;\n",
              "    }\n",
              "\n",
              "    .dataframe thead th {\n",
              "        text-align: right;\n",
              "    }\n",
              "</style>\n",
              "<table border=\"1\" class=\"dataframe\">\n",
              "  <thead>\n",
              "    <tr style=\"text-align: right;\">\n",
              "      <th></th>\n",
              "      <th>title</th>\n",
              "      <th>recipe_url</th>\n",
              "      <th>description</th>\n",
              "      <th>rating</th>\n",
              "      <th>reviews</th>\n",
              "      <th>author</th>\n",
              "    </tr>\n",
              "  </thead>\n",
              "  <tbody>\n",
              "    <tr>\n",
              "      <th>0</th>\n",
              "      <td>Pumpkin Apple Streusel Muffins</td>\n",
              "      <td>https://www.allrecipes.com/recipe/20237/pumpki...</td>\n",
              "      <td>What better way to celebrate fall than with d...</td>\n",
              "      <td>5</td>\n",
              "      <td>962</td>\n",
              "      <td>JES55</td>\n",
              "    </tr>\n",
              "    <tr>\n",
              "      <th>1</th>\n",
              "      <td>Harvest Pumpkin Soup</td>\n",
              "      <td>https://www.allrecipes.com/recipe/13473/harves...</td>\n",
              "      <td>A very easy and great tasting soup.</td>\n",
              "      <td>4</td>\n",
              "      <td>75</td>\n",
              "      <td>Kathy</td>\n",
              "    </tr>\n",
              "    <tr>\n",
              "      <th>2</th>\n",
              "      <td>Chef John's Pumpkin Pancakes</td>\n",
              "      <td>https://www.allrecipes.com/recipe/219167/chef-...</td>\n",
              "      <td>This basic pancake recipe turns into a delici...</td>\n",
              "      <td>5</td>\n",
              "      <td>250</td>\n",
              "      <td>Chef John</td>\n",
              "    </tr>\n",
              "    <tr>\n",
              "      <th>3</th>\n",
              "      <td>Marbled Pumpkin Cheesecake</td>\n",
              "      <td>https://www.allrecipes.com/recipe/23046/marble...</td>\n",
              "      <td>This is a wonderful pumpkin cheesecake with a...</td>\n",
              "      <td>5</td>\n",
              "      <td>658</td>\n",
              "      <td>Renee</td>\n",
              "    </tr>\n",
              "    <tr>\n",
              "      <th>4</th>\n",
              "      <td>Creamy Pumpkin Sauce</td>\n",
              "      <td>https://www.allrecipes.com/recipe/245025/cream...</td>\n",
              "      <td>This sauce is great over pumpkin or cheese ra...</td>\n",
              "      <td>4</td>\n",
              "      <td>22</td>\n",
              "      <td>MegChaseWal</td>\n",
              "    </tr>\n",
              "    <tr>\n",
              "      <th>5</th>\n",
              "      <td>Pumpkin Sandwich Rolls</td>\n",
              "      <td>https://www.allrecipes.com/recipe/240006/pumpk...</td>\n",
              "      <td>I came up with this recipe when I wanted some...</td>\n",
              "      <td>5</td>\n",
              "      <td>2</td>\n",
              "      <td>Gremolata</td>\n",
              "    </tr>\n",
              "    <tr>\n",
              "      <th>6</th>\n",
              "      <td>Spicy Pumpkin Spice Latte</td>\n",
              "      <td>https://www.allrecipes.com/recipe/239223/spicy...</td>\n",
              "      <td>I don't normally drink pumpkin spice lattes, ...</td>\n",
              "      <td>4</td>\n",
              "      <td>12</td>\n",
              "      <td>The Gruntled Gourmand</td>\n",
              "    </tr>\n",
              "    <tr>\n",
              "      <th>7</th>\n",
              "      <td>Pumpkin Roll Cake</td>\n",
              "      <td>https://www.allrecipes.com/recipe/8126/pumpkin...</td>\n",
              "      <td>A thin pumpkin cake, rolled around in a white...</td>\n",
              "      <td>5</td>\n",
              "      <td>397</td>\n",
              "      <td>Stephanie</td>\n",
              "    </tr>\n",
              "    <tr>\n",
              "      <th>8</th>\n",
              "      <td>Perfect Pumpkin Pie</td>\n",
              "      <td>https://www.allrecipes.com/recipe/23439/perfec...</td>\n",
              "      <td>The one and only! EAGLE BRAND® makes this tra...</td>\n",
              "      <td>5</td>\n",
              "      <td>2301</td>\n",
              "      <td>Eagle brand</td>\n",
              "    </tr>\n",
              "    <tr>\n",
              "      <th>9</th>\n",
              "      <td>Homemade Fresh Pumpkin Pie</td>\n",
              "      <td>https://www.allrecipes.com/recipe/13711/homema...</td>\n",
              "      <td>This recipe is made from fresh pumpkin, not c...</td>\n",
              "      <td>5</td>\n",
              "      <td>568</td>\n",
              "      <td>Nancy Scott</td>\n",
              "    </tr>\n",
              "    <tr>\n",
              "      <th>10</th>\n",
              "      <td>Downeast Maine Pumpkin Bread</td>\n",
              "      <td>https://www.allrecipes.com/recipe/6820/downeas...</td>\n",
              "      <td>This is a great old Maine recipe, moist and s...</td>\n",
              "      <td>5</td>\n",
              "      <td>7566</td>\n",
              "      <td>Laurie Bennett</td>\n",
              "    </tr>\n",
              "    <tr>\n",
              "      <th>11</th>\n",
              "      <td>Pumpkin Pancakes</td>\n",
              "      <td>https://www.allrecipes.com/recipe/17036/pumpki...</td>\n",
              "      <td>These are good any season but taste best on c...</td>\n",
              "      <td>5</td>\n",
              "      <td>2341</td>\n",
              "      <td>Anonymous</td>\n",
              "    </tr>\n",
              "    <tr>\n",
              "      <th>12</th>\n",
              "      <td>Double Layer Pumpkin Cheesecake</td>\n",
              "      <td>https://www.allrecipes.com/recipe/13477/double...</td>\n",
              "      <td>A great alternative to pumpkin pie, especiall...</td>\n",
              "      <td>5</td>\n",
              "      <td>2946</td>\n",
              "      <td>Stephanie Phillips</td>\n",
              "    </tr>\n",
              "    <tr>\n",
              "      <th>13</th>\n",
              "      <td>Libby's® Famous Pumpkin Pie</td>\n",
              "      <td>https://www.allrecipes.com/recipe/22755/libbys...</td>\n",
              "      <td>Whether you're hosting a festive party or a c...</td>\n",
              "      <td>5</td>\n",
              "      <td>845</td>\n",
              "      <td>Nestle Toll House</td>\n",
              "    </tr>\n",
              "    <tr>\n",
              "      <th>14</th>\n",
              "      <td>Spiced Pumpkin Seeds</td>\n",
              "      <td>https://www.allrecipes.com/recipe/13839/spiced...</td>\n",
              "      <td>These pumpkin seeds make a great tasting and ...</td>\n",
              "      <td>5</td>\n",
              "      <td>826</td>\n",
              "      <td>Carol</td>\n",
              "    </tr>\n",
              "    <tr>\n",
              "      <th>15</th>\n",
              "      <td>Pumpkin Roll I</td>\n",
              "      <td>https://www.allrecipes.com/recipe/13731/pumpki...</td>\n",
              "      <td>An easy pumpkin roll dessert that tastes great.</td>\n",
              "      <td>5</td>\n",
              "      <td>313</td>\n",
              "      <td>Jackie Smith</td>\n",
              "    </tr>\n",
              "    <tr>\n",
              "      <th>16</th>\n",
              "      <td>Pumpkin Soup</td>\n",
              "      <td>https://www.allrecipes.com/recipe/9191/pumpkin...</td>\n",
              "      <td>This delicious, cream-like soup is served at ...</td>\n",
              "      <td>4</td>\n",
              "      <td>572</td>\n",
              "      <td>Lea Ogawa</td>\n",
              "    </tr>\n",
              "    <tr>\n",
              "      <th>17</th>\n",
              "      <td>Peanut Butter and Pumpkin Dog Treats</td>\n",
              "      <td>https://www.allrecipes.com/recipe/133123/peanu...</td>\n",
              "      <td>Baked dog treats filled with pumpkin and pean...</td>\n",
              "      <td>5</td>\n",
              "      <td>883</td>\n",
              "      <td>Kelly</td>\n",
              "    </tr>\n",
              "    <tr>\n",
              "      <th>18</th>\n",
              "      <td>Iced Pumpkin Cookies</td>\n",
              "      <td>https://www.allrecipes.com/recipe/10033/iced-p...</td>\n",
              "      <td>Wonderful spicy iced pumpkin cookies that bot...</td>\n",
              "      <td>5</td>\n",
              "      <td>3418</td>\n",
              "      <td>Gina</td>\n",
              "    </tr>\n",
              "    <tr>\n",
              "      <th>19</th>\n",
              "      <td>Pumpkin Fluff Dip</td>\n",
              "      <td>https://www.allrecipes.com/recipe/24740/pumpki...</td>\n",
              "      <td>This is a very creamy and yummy vanilla pumpk...</td>\n",
              "      <td>5</td>\n",
              "      <td>877</td>\n",
              "      <td>Tiera Lesley</td>\n",
              "    </tr>\n",
              "    <tr>\n",
              "      <th>20</th>\n",
              "      <td>Simple Pumpkin Pie</td>\n",
              "      <td>https://www.allrecipes.com/recipe/229932/simpl...</td>\n",
              "      <td>'Easy as pie' is just the case with this pie.</td>\n",
              "      <td>5</td>\n",
              "      <td>59</td>\n",
              "      <td>BobAltman</td>\n",
              "    </tr>\n",
              "    <tr>\n",
              "      <th>21</th>\n",
              "      <td>Savory Pumpkin Hummus</td>\n",
              "      <td>https://www.allrecipes.com/recipe/230466/savor...</td>\n",
              "      <td>I tinkered a bit with what I found in other r...</td>\n",
              "      <td>4</td>\n",
              "      <td>44</td>\n",
              "      <td>Georgia J. Llewellyn</td>\n",
              "    </tr>\n",
              "    <tr>\n",
              "      <th>22</th>\n",
              "      <td>Pumpkin Spice Cupcakes</td>\n",
              "      <td>https://www.allrecipes.com/recipe/153245/pumpk...</td>\n",
              "      <td>This hearty pumpkin cupcake with a cinnamon-c...</td>\n",
              "      <td>5</td>\n",
              "      <td>443</td>\n",
              "      <td>Javaru</td>\n",
              "    </tr>\n",
              "    <tr>\n",
              "      <th>23</th>\n",
              "      <td>Two Ingredient Pumpkin Cake</td>\n",
              "      <td>https://www.allrecipes.com/recipe/77375/two-in...</td>\n",
              "      <td>It can't get any easier than this! Just two i...</td>\n",
              "      <td>5</td>\n",
              "      <td>484</td>\n",
              "      <td>Chickentarian</td>\n",
              "    </tr>\n",
              "    <tr>\n",
              "      <th>24</th>\n",
              "      <td>Chef John's Pumpkin Pie</td>\n",
              "      <td>https://www.allrecipes.com/recipe/230132/chef-...</td>\n",
              "      <td>After many years of experimentation, I've fin...</td>\n",
              "      <td>5</td>\n",
              "      <td>652</td>\n",
              "      <td>Chef John</td>\n",
              "    </tr>\n",
              "    <tr>\n",
              "      <th>25</th>\n",
              "      <td>Pumpkin Dump Cake</td>\n",
              "      <td>https://www.allrecipes.com/recipe/26060/pumpki...</td>\n",
              "      <td>There are different variations of this popula...</td>\n",
              "      <td>4</td>\n",
              "      <td>164</td>\n",
              "      <td>Carolyn Busch</td>\n",
              "    </tr>\n",
              "    <tr>\n",
              "      <th>26</th>\n",
              "      <td>Pumpkin Bars with Cream Cheese Frosting</td>\n",
              "      <td>https://www.allrecipes.com/recipe/229508/pumpk...</td>\n",
              "      <td>Perfect holiday treat for you and your family...</td>\n",
              "      <td>5</td>\n",
              "      <td>112</td>\n",
              "      <td>WeibellMommy</td>\n",
              "    </tr>\n",
              "    <tr>\n",
              "      <th>27</th>\n",
              "      <td>Pumpkin Cake III</td>\n",
              "      <td>https://www.allrecipes.com/recipe/19079/pumpki...</td>\n",
              "      <td>Delicious pumpkin spice cake baked in a sheet...</td>\n",
              "      <td>5</td>\n",
              "      <td>813</td>\n",
              "      <td>SUE CASE</td>\n",
              "    </tr>\n",
              "    <tr>\n",
              "      <th>28</th>\n",
              "      <td>Easy Pumpkin Muffins</td>\n",
              "      <td>https://www.allrecipes.com/recipe/93290/easy-p...</td>\n",
              "      <td>Enjoy this great pumpkin muffin recipe. These...</td>\n",
              "      <td>4</td>\n",
              "      <td>757</td>\n",
              "      <td>CINDYCOSTA</td>\n",
              "    </tr>\n",
              "    <tr>\n",
              "      <th>29</th>\n",
              "      <td>Pumpkin Whoopie Pies</td>\n",
              "      <td>https://www.allrecipes.com/recipe/11331/pumpki...</td>\n",
              "      <td>A delicious pumpkin cookie that can be eaten ...</td>\n",
              "      <td>5</td>\n",
              "      <td>416</td>\n",
              "      <td>V. Stogner</td>\n",
              "    </tr>\n",
              "    <tr>\n",
              "      <th>30</th>\n",
              "      <td>Pumpkin Brownies</td>\n",
              "      <td>https://www.allrecipes.com/recipe/211165/pumpk...</td>\n",
              "      <td>A twist on a classic brownie recipe--perfect ...</td>\n",
              "      <td>5</td>\n",
              "      <td>337</td>\n",
              "      <td>CroqueMadame</td>\n",
              "    </tr>\n",
              "    <tr>\n",
              "      <th>31</th>\n",
              "      <td>Pumpkin Crunch Cake</td>\n",
              "      <td>https://www.allrecipes.com/recipe/13483/pumpki...</td>\n",
              "      <td>A great tasting cake, and really easy to make!</td>\n",
              "      <td>5</td>\n",
              "      <td>396</td>\n",
              "      <td>Nora LaCroix</td>\n",
              "    </tr>\n",
              "    <tr>\n",
              "      <th>32</th>\n",
              "      <td>Great Pumpkin Dessert</td>\n",
              "      <td>https://www.allrecipes.com/recipe/8404/great-p...</td>\n",
              "      <td>This is a very easy cake made with canned pum...</td>\n",
              "      <td>5</td>\n",
              "      <td>523</td>\n",
              "      <td>Nancy</td>\n",
              "    </tr>\n",
              "    <tr>\n",
              "      <th>33</th>\n",
              "      <td>Mexican Pumpkin Empanadas</td>\n",
              "      <td>https://www.allrecipes.com/recipe/216489/mexic...</td>\n",
              "      <td>My take on a traditional pumpkin empanada! Ad...</td>\n",
              "      <td>5</td>\n",
              "      <td>78</td>\n",
              "      <td>Esther Loveall Saunders</td>\n",
              "    </tr>\n",
              "  </tbody>\n",
              "</table>\n",
              "</div>"
            ],
            "text/plain": [
              "                                        title  ...                   author\n",
              "0             Pumpkin Apple Streusel Muffins   ...                    JES55\n",
              "1                       Harvest Pumpkin Soup   ...                    Kathy\n",
              "2               Chef John's Pumpkin Pancakes   ...                Chef John\n",
              "3                 Marbled Pumpkin Cheesecake   ...                    Renee\n",
              "4                       Creamy Pumpkin Sauce   ...              MegChaseWal\n",
              "5                     Pumpkin Sandwich Rolls   ...                Gremolata\n",
              "6                  Spicy Pumpkin Spice Latte   ...    The Gruntled Gourmand\n",
              "7                          Pumpkin Roll Cake   ...                Stephanie\n",
              "8                        Perfect Pumpkin Pie   ...              Eagle brand\n",
              "9                 Homemade Fresh Pumpkin Pie   ...              Nancy Scott\n",
              "10              Downeast Maine Pumpkin Bread   ...           Laurie Bennett\n",
              "11                          Pumpkin Pancakes   ...                Anonymous\n",
              "12           Double Layer Pumpkin Cheesecake   ...       Stephanie Phillips\n",
              "13               Libby's® Famous Pumpkin Pie   ...        Nestle Toll House\n",
              "14                      Spiced Pumpkin Seeds   ...                    Carol\n",
              "15                            Pumpkin Roll I   ...             Jackie Smith\n",
              "16                              Pumpkin Soup   ...                Lea Ogawa\n",
              "17      Peanut Butter and Pumpkin Dog Treats   ...                    Kelly\n",
              "18                      Iced Pumpkin Cookies   ...                     Gina\n",
              "19                         Pumpkin Fluff Dip   ...             Tiera Lesley\n",
              "20                        Simple Pumpkin Pie   ...                BobAltman\n",
              "21                     Savory Pumpkin Hummus   ...     Georgia J. Llewellyn\n",
              "22                    Pumpkin Spice Cupcakes   ...                   Javaru\n",
              "23               Two Ingredient Pumpkin Cake   ...            Chickentarian\n",
              "24                   Chef John's Pumpkin Pie   ...                Chef John\n",
              "25                         Pumpkin Dump Cake   ...            Carolyn Busch\n",
              "26   Pumpkin Bars with Cream Cheese Frosting   ...             WeibellMommy\n",
              "27                          Pumpkin Cake III   ...                 SUE CASE\n",
              "28                      Easy Pumpkin Muffins   ...               CINDYCOSTA\n",
              "29                      Pumpkin Whoopie Pies   ...               V. Stogner\n",
              "30                          Pumpkin Brownies   ...             CroqueMadame\n",
              "31                       Pumpkin Crunch Cake   ...             Nora LaCroix\n",
              "32                     Great Pumpkin Dessert   ...                    Nancy\n",
              "33                 Mexican Pumpkin Empanadas   ...  Esther Loveall Saunders\n",
              "\n",
              "[34 rows x 6 columns]"
            ]
          },
          "metadata": {
            "tags": []
          },
          "execution_count": 6
        }
      ]
    },
    {
      "cell_type": "markdown",
      "metadata": {
        "id": "2QFjcLoNJMdM"
      },
      "source": [
        "## Task 2: Descriptive Statistics on Recipes"
      ]
    },
    {
      "cell_type": "markdown",
      "metadata": {
        "id": "I3-NwvCjJMdN"
      },
      "source": [
        "We now start analyzing the recipes."
      ]
    },
    {
      "cell_type": "markdown",
      "metadata": {
        "id": "AlR6XENHJMdO"
      },
      "source": [
        "a. Use the `describe()` and `hist()` commands to analyze the contents of the `reviews` and `rating` columns."
      ]
    },
    {
      "cell_type": "markdown",
      "metadata": {
        "id": "F9gTsUEYJMdO"
      },
      "source": [
        "b. Find the recipe with the highest number of reviews"
      ]
    },
    {
      "cell_type": "markdown",
      "metadata": {
        "id": "qxswHvW4JMdP"
      },
      "source": [
        "c. Based on the results of the first exploratory analysis, you decide to keep only recipes more than 10 reviews, and with rating of five stars. Create a new dataframe with only these well-reviewed, and highly-rated recipes."
      ]
    },
    {
      "cell_type": "markdown",
      "metadata": {
        "id": "QmqUShh8JMdP"
      },
      "source": [
        "d. Among the recipes with 5 stars, find the one with the highest number of reviews. The command `df[\"reviews\"].max()` returns back the highest value for the column `reviews` of the dataframe `df`."
      ]
    },
    {
      "cell_type": "markdown",
      "metadata": {
        "id": "3OlFC6HTJMdQ"
      },
      "source": [
        "e. Find all the recipes with more than 10 reviews, and with rating of five stars, that contain the word 'Cookie' in the title. The command `df[\"title\"].str.contains(\"Cookie\")` can be used for this purpose."
      ]
    },
    {
      "cell_type": "markdown",
      "metadata": {
        "id": "KiMld9zQJMdQ"
      },
      "source": [
        "f. Using the dataframe from step (c), create a scatterplot that shows the number of reviews on the x-axis and the recipe rating on the y axis."
      ]
    },
    {
      "cell_type": "code",
      "metadata": {
        "id": "xWGAbsJKJMdS",
        "colab": {
          "base_uri": "https://localhost:8080/",
          "height": 288
        },
        "outputId": "3c1c2736-2624-49f1-bc12-7c7805909cff"
      },
      "source": [
        "## a1\n",
        "df.describe()"
      ],
      "execution_count": null,
      "outputs": [
        {
          "output_type": "execute_result",
          "data": {
            "text/html": [
              "<div>\n",
              "<style scoped>\n",
              "    .dataframe tbody tr th:only-of-type {\n",
              "        vertical-align: middle;\n",
              "    }\n",
              "\n",
              "    .dataframe tbody tr th {\n",
              "        vertical-align: top;\n",
              "    }\n",
              "\n",
              "    .dataframe thead th {\n",
              "        text-align: right;\n",
              "    }\n",
              "</style>\n",
              "<table border=\"1\" class=\"dataframe\">\n",
              "  <thead>\n",
              "    <tr style=\"text-align: right;\">\n",
              "      <th></th>\n",
              "      <th>rating</th>\n",
              "      <th>reviews</th>\n",
              "    </tr>\n",
              "  </thead>\n",
              "  <tbody>\n",
              "    <tr>\n",
              "      <th>count</th>\n",
              "      <td>34.000000</td>\n",
              "      <td>34.000000</td>\n",
              "    </tr>\n",
              "    <tr>\n",
              "      <th>mean</th>\n",
              "      <td>4.794118</td>\n",
              "      <td>915.058824</td>\n",
              "    </tr>\n",
              "    <tr>\n",
              "      <th>std</th>\n",
              "      <td>0.410426</td>\n",
              "      <td>1435.974760</td>\n",
              "    </tr>\n",
              "    <tr>\n",
              "      <th>min</th>\n",
              "      <td>4.000000</td>\n",
              "      <td>2.000000</td>\n",
              "    </tr>\n",
              "    <tr>\n",
              "      <th>25%</th>\n",
              "      <td>5.000000</td>\n",
              "      <td>185.500000</td>\n",
              "    </tr>\n",
              "    <tr>\n",
              "      <th>50%</th>\n",
              "      <td>5.000000</td>\n",
              "      <td>503.500000</td>\n",
              "    </tr>\n",
              "    <tr>\n",
              "      <th>75%</th>\n",
              "      <td>5.000000</td>\n",
              "      <td>840.250000</td>\n",
              "    </tr>\n",
              "    <tr>\n",
              "      <th>max</th>\n",
              "      <td>5.000000</td>\n",
              "      <td>7566.000000</td>\n",
              "    </tr>\n",
              "  </tbody>\n",
              "</table>\n",
              "</div>"
            ],
            "text/plain": [
              "          rating      reviews\n",
              "count  34.000000    34.000000\n",
              "mean    4.794118   915.058824\n",
              "std     0.410426  1435.974760\n",
              "min     4.000000     2.000000\n",
              "25%     5.000000   185.500000\n",
              "50%     5.000000   503.500000\n",
              "75%     5.000000   840.250000\n",
              "max     5.000000  7566.000000"
            ]
          },
          "metadata": {
            "tags": []
          },
          "execution_count": 7
        }
      ]
    },
    {
      "cell_type": "code",
      "metadata": {
        "colab": {
          "base_uri": "https://localhost:8080/",
          "height": 513
        },
        "id": "o3CPAXNmvoPT",
        "outputId": "aa83dac7-b3b3-492c-999d-472dd1e7dc59"
      },
      "source": [
        "## a2\n",
        "df.hist()"
      ],
      "execution_count": null,
      "outputs": [
        {
          "output_type": "execute_result",
          "data": {
            "text/plain": [
              "array([[<matplotlib.axes._subplots.AxesSubplot object at 0x7f67a993f748>,\n",
              "        <matplotlib.axes._subplots.AxesSubplot object at 0x7f67a9e854e0>]],\n",
              "      dtype=object)"
            ]
          },
          "metadata": {
            "tags": []
          },
          "execution_count": 8
        },
        {
          "output_type": "display_data",
          "data": {
            "image/png": "[encoded data removed]",
            "text/plain": [
              "<Figure size 748.8x514.8 with 2 Axes>"
            ]
          },
          "metadata": {
            "tags": [],
            "image/png": {
              "width": 618,
              "height": 441
            }
          }
        }
      ]
    },
    {
      "cell_type": "code",
      "metadata": {
        "colab": {
          "base_uri": "https://localhost:8080/"
        },
        "id": "o73ZO4Ievwx2",
        "outputId": "5afd86b6-d585-444d-f973-00193f9520e7"
      },
      "source": [
        "## b\n",
        "\n",
        "recipe_highest = df.max()\n",
        "print(recipe_highest)"
      ],
      "execution_count": null,
      "outputs": [
        {
          "output_type": "stream",
          "text": [
            "title                               Two Ingredient Pumpkin Cake \n",
            "recipe_url     https://www.allrecipes.com/recipe/93290/easy-p...\n",
            "description     Wonderful spicy iced pumpkin cookies that bot...\n",
            "rating                                                         5\n",
            "reviews                                                     7566\n",
            "author                                              WeibellMommy\n",
            "dtype: object\n"
          ],
          "name": "stdout"
        }
      ]
    },
    {
      "cell_type": "code",
      "metadata": {
        "colab": {
          "base_uri": "https://localhost:8080/",
          "height": 828
        },
        "id": "0KDRe98Xvw-X",
        "outputId": "09c68709-de96-479c-ee5e-3af2605b027d"
      },
      "source": [
        "## c  recipes more than 10 reviews, and with rating of five stars\n",
        "\n",
        "filters = ((df['reviews'] > 10) & (df['rating'] == 5) )\n",
        "wanted_recipies = df[filters]\n",
        "wanted_recipies\n"
      ],
      "execution_count": null,
      "outputs": [
        {
          "output_type": "execute_result",
          "data": {
            "text/html": [
              "<div>\n",
              "<style scoped>\n",
              "    .dataframe tbody tr th:only-of-type {\n",
              "        vertical-align: middle;\n",
              "    }\n",
              "\n",
              "    .dataframe tbody tr th {\n",
              "        vertical-align: top;\n",
              "    }\n",
              "\n",
              "    .dataframe thead th {\n",
              "        text-align: right;\n",
              "    }\n",
              "</style>\n",
              "<table border=\"1\" class=\"dataframe\">\n",
              "  <thead>\n",
              "    <tr style=\"text-align: right;\">\n",
              "      <th></th>\n",
              "      <th>title</th>\n",
              "      <th>recipe_url</th>\n",
              "      <th>description</th>\n",
              "      <th>rating</th>\n",
              "      <th>reviews</th>\n",
              "      <th>author</th>\n",
              "    </tr>\n",
              "  </thead>\n",
              "  <tbody>\n",
              "    <tr>\n",
              "      <th>0</th>\n",
              "      <td>Pumpkin Apple Streusel Muffins</td>\n",
              "      <td>https://www.allrecipes.com/recipe/20237/pumpki...</td>\n",
              "      <td>What better way to celebrate fall than with d...</td>\n",
              "      <td>5</td>\n",
              "      <td>962</td>\n",
              "      <td>JES55</td>\n",
              "    </tr>\n",
              "    <tr>\n",
              "      <th>2</th>\n",
              "      <td>Chef John's Pumpkin Pancakes</td>\n",
              "      <td>https://www.allrecipes.com/recipe/219167/chef-...</td>\n",
              "      <td>This basic pancake recipe turns into a delici...</td>\n",
              "      <td>5</td>\n",
              "      <td>250</td>\n",
              "      <td>Chef John</td>\n",
              "    </tr>\n",
              "    <tr>\n",
              "      <th>3</th>\n",
              "      <td>Marbled Pumpkin Cheesecake</td>\n",
              "      <td>https://www.allrecipes.com/recipe/23046/marble...</td>\n",
              "      <td>This is a wonderful pumpkin cheesecake with a...</td>\n",
              "      <td>5</td>\n",
              "      <td>658</td>\n",
              "      <td>Renee</td>\n",
              "    </tr>\n",
              "    <tr>\n",
              "      <th>7</th>\n",
              "      <td>Pumpkin Roll Cake</td>\n",
              "      <td>https://www.allrecipes.com/recipe/8126/pumpkin...</td>\n",
              "      <td>A thin pumpkin cake, rolled around in a white...</td>\n",
              "      <td>5</td>\n",
              "      <td>397</td>\n",
              "      <td>Stephanie</td>\n",
              "    </tr>\n",
              "    <tr>\n",
              "      <th>8</th>\n",
              "      <td>Perfect Pumpkin Pie</td>\n",
              "      <td>https://www.allrecipes.com/recipe/23439/perfec...</td>\n",
              "      <td>The one and only! EAGLE BRAND® makes this tra...</td>\n",
              "      <td>5</td>\n",
              "      <td>2301</td>\n",
              "      <td>Eagle brand</td>\n",
              "    </tr>\n",
              "    <tr>\n",
              "      <th>9</th>\n",
              "      <td>Homemade Fresh Pumpkin Pie</td>\n",
              "      <td>https://www.allrecipes.com/recipe/13711/homema...</td>\n",
              "      <td>This recipe is made from fresh pumpkin, not c...</td>\n",
              "      <td>5</td>\n",
              "      <td>568</td>\n",
              "      <td>Nancy Scott</td>\n",
              "    </tr>\n",
              "    <tr>\n",
              "      <th>10</th>\n",
              "      <td>Downeast Maine Pumpkin Bread</td>\n",
              "      <td>https://www.allrecipes.com/recipe/6820/downeas...</td>\n",
              "      <td>This is a great old Maine recipe, moist and s...</td>\n",
              "      <td>5</td>\n",
              "      <td>7566</td>\n",
              "      <td>Laurie Bennett</td>\n",
              "    </tr>\n",
              "    <tr>\n",
              "      <th>11</th>\n",
              "      <td>Pumpkin Pancakes</td>\n",
              "      <td>https://www.allrecipes.com/recipe/17036/pumpki...</td>\n",
              "      <td>These are good any season but taste best on c...</td>\n",
              "      <td>5</td>\n",
              "      <td>2341</td>\n",
              "      <td>Anonymous</td>\n",
              "    </tr>\n",
              "    <tr>\n",
              "      <th>12</th>\n",
              "      <td>Double Layer Pumpkin Cheesecake</td>\n",
              "      <td>https://www.allrecipes.com/recipe/13477/double...</td>\n",
              "      <td>A great alternative to pumpkin pie, especiall...</td>\n",
              "      <td>5</td>\n",
              "      <td>2946</td>\n",
              "      <td>Stephanie Phillips</td>\n",
              "    </tr>\n",
              "    <tr>\n",
              "      <th>13</th>\n",
              "      <td>Libby's® Famous Pumpkin Pie</td>\n",
              "      <td>https://www.allrecipes.com/recipe/22755/libbys...</td>\n",
              "      <td>Whether you're hosting a festive party or a c...</td>\n",
              "      <td>5</td>\n",
              "      <td>845</td>\n",
              "      <td>Nestle Toll House</td>\n",
              "    </tr>\n",
              "    <tr>\n",
              "      <th>14</th>\n",
              "      <td>Spiced Pumpkin Seeds</td>\n",
              "      <td>https://www.allrecipes.com/recipe/13839/spiced...</td>\n",
              "      <td>These pumpkin seeds make a great tasting and ...</td>\n",
              "      <td>5</td>\n",
              "      <td>826</td>\n",
              "      <td>Carol</td>\n",
              "    </tr>\n",
              "    <tr>\n",
              "      <th>15</th>\n",
              "      <td>Pumpkin Roll I</td>\n",
              "      <td>https://www.allrecipes.com/recipe/13731/pumpki...</td>\n",
              "      <td>An easy pumpkin roll dessert that tastes great.</td>\n",
              "      <td>5</td>\n",
              "      <td>313</td>\n",
              "      <td>Jackie Smith</td>\n",
              "    </tr>\n",
              "    <tr>\n",
              "      <th>17</th>\n",
              "      <td>Peanut Butter and Pumpkin Dog Treats</td>\n",
              "      <td>https://www.allrecipes.com/recipe/133123/peanu...</td>\n",
              "      <td>Baked dog treats filled with pumpkin and pean...</td>\n",
              "      <td>5</td>\n",
              "      <td>883</td>\n",
              "      <td>Kelly</td>\n",
              "    </tr>\n",
              "    <tr>\n",
              "      <th>18</th>\n",
              "      <td>Iced Pumpkin Cookies</td>\n",
              "      <td>https://www.allrecipes.com/recipe/10033/iced-p...</td>\n",
              "      <td>Wonderful spicy iced pumpkin cookies that bot...</td>\n",
              "      <td>5</td>\n",
              "      <td>3418</td>\n",
              "      <td>Gina</td>\n",
              "    </tr>\n",
              "    <tr>\n",
              "      <th>19</th>\n",
              "      <td>Pumpkin Fluff Dip</td>\n",
              "      <td>https://www.allrecipes.com/recipe/24740/pumpki...</td>\n",
              "      <td>This is a very creamy and yummy vanilla pumpk...</td>\n",
              "      <td>5</td>\n",
              "      <td>877</td>\n",
              "      <td>Tiera Lesley</td>\n",
              "    </tr>\n",
              "    <tr>\n",
              "      <th>20</th>\n",
              "      <td>Simple Pumpkin Pie</td>\n",
              "      <td>https://www.allrecipes.com/recipe/229932/simpl...</td>\n",
              "      <td>'Easy as pie' is just the case with this pie.</td>\n",
              "      <td>5</td>\n",
              "      <td>59</td>\n",
              "      <td>BobAltman</td>\n",
              "    </tr>\n",
              "    <tr>\n",
              "      <th>22</th>\n",
              "      <td>Pumpkin Spice Cupcakes</td>\n",
              "      <td>https://www.allrecipes.com/recipe/153245/pumpk...</td>\n",
              "      <td>This hearty pumpkin cupcake with a cinnamon-c...</td>\n",
              "      <td>5</td>\n",
              "      <td>443</td>\n",
              "      <td>Javaru</td>\n",
              "    </tr>\n",
              "    <tr>\n",
              "      <th>23</th>\n",
              "      <td>Two Ingredient Pumpkin Cake</td>\n",
              "      <td>https://www.allrecipes.com/recipe/77375/two-in...</td>\n",
              "      <td>It can't get any easier than this! Just two i...</td>\n",
              "      <td>5</td>\n",
              "      <td>484</td>\n",
              "      <td>Chickentarian</td>\n",
              "    </tr>\n",
              "    <tr>\n",
              "      <th>24</th>\n",
              "      <td>Chef John's Pumpkin Pie</td>\n",
              "      <td>https://www.allrecipes.com/recipe/230132/chef-...</td>\n",
              "      <td>After many years of experimentation, I've fin...</td>\n",
              "      <td>5</td>\n",
              "      <td>652</td>\n",
              "      <td>Chef John</td>\n",
              "    </tr>\n",
              "    <tr>\n",
              "      <th>26</th>\n",
              "      <td>Pumpkin Bars with Cream Cheese Frosting</td>\n",
              "      <td>https://www.allrecipes.com/recipe/229508/pumpk...</td>\n",
              "      <td>Perfect holiday treat for you and your family...</td>\n",
              "      <td>5</td>\n",
              "      <td>112</td>\n",
              "      <td>WeibellMommy</td>\n",
              "    </tr>\n",
              "    <tr>\n",
              "      <th>27</th>\n",
              "      <td>Pumpkin Cake III</td>\n",
              "      <td>https://www.allrecipes.com/recipe/19079/pumpki...</td>\n",
              "      <td>Delicious pumpkin spice cake baked in a sheet...</td>\n",
              "      <td>5</td>\n",
              "      <td>813</td>\n",
              "      <td>SUE CASE</td>\n",
              "    </tr>\n",
              "    <tr>\n",
              "      <th>29</th>\n",
              "      <td>Pumpkin Whoopie Pies</td>\n",
              "      <td>https://www.allrecipes.com/recipe/11331/pumpki...</td>\n",
              "      <td>A delicious pumpkin cookie that can be eaten ...</td>\n",
              "      <td>5</td>\n",
              "      <td>416</td>\n",
              "      <td>V. Stogner</td>\n",
              "    </tr>\n",
              "    <tr>\n",
              "      <th>30</th>\n",
              "      <td>Pumpkin Brownies</td>\n",
              "      <td>https://www.allrecipes.com/recipe/211165/pumpk...</td>\n",
              "      <td>A twist on a classic brownie recipe--perfect ...</td>\n",
              "      <td>5</td>\n",
              "      <td>337</td>\n",
              "      <td>CroqueMadame</td>\n",
              "    </tr>\n",
              "    <tr>\n",
              "      <th>31</th>\n",
              "      <td>Pumpkin Crunch Cake</td>\n",
              "      <td>https://www.allrecipes.com/recipe/13483/pumpki...</td>\n",
              "      <td>A great tasting cake, and really easy to make!</td>\n",
              "      <td>5</td>\n",
              "      <td>396</td>\n",
              "      <td>Nora LaCroix</td>\n",
              "    </tr>\n",
              "    <tr>\n",
              "      <th>32</th>\n",
              "      <td>Great Pumpkin Dessert</td>\n",
              "      <td>https://www.allrecipes.com/recipe/8404/great-p...</td>\n",
              "      <td>This is a very easy cake made with canned pum...</td>\n",
              "      <td>5</td>\n",
              "      <td>523</td>\n",
              "      <td>Nancy</td>\n",
              "    </tr>\n",
              "    <tr>\n",
              "      <th>33</th>\n",
              "      <td>Mexican Pumpkin Empanadas</td>\n",
              "      <td>https://www.allrecipes.com/recipe/216489/mexic...</td>\n",
              "      <td>My take on a traditional pumpkin empanada! Ad...</td>\n",
              "      <td>5</td>\n",
              "      <td>78</td>\n",
              "      <td>Esther Loveall Saunders</td>\n",
              "    </tr>\n",
              "  </tbody>\n",
              "</table>\n",
              "</div>"
            ],
            "text/plain": [
              "                                        title  ...                   author\n",
              "0             Pumpkin Apple Streusel Muffins   ...                    JES55\n",
              "2               Chef John's Pumpkin Pancakes   ...                Chef John\n",
              "3                 Marbled Pumpkin Cheesecake   ...                    Renee\n",
              "7                          Pumpkin Roll Cake   ...                Stephanie\n",
              "8                        Perfect Pumpkin Pie   ...              Eagle brand\n",
              "9                 Homemade Fresh Pumpkin Pie   ...              Nancy Scott\n",
              "10              Downeast Maine Pumpkin Bread   ...           Laurie Bennett\n",
              "11                          Pumpkin Pancakes   ...                Anonymous\n",
              "12           Double Layer Pumpkin Cheesecake   ...       Stephanie Phillips\n",
              "13               Libby's® Famous Pumpkin Pie   ...        Nestle Toll House\n",
              "14                      Spiced Pumpkin Seeds   ...                    Carol\n",
              "15                            Pumpkin Roll I   ...             Jackie Smith\n",
              "17      Peanut Butter and Pumpkin Dog Treats   ...                    Kelly\n",
              "18                      Iced Pumpkin Cookies   ...                     Gina\n",
              "19                         Pumpkin Fluff Dip   ...             Tiera Lesley\n",
              "20                        Simple Pumpkin Pie   ...                BobAltman\n",
              "22                    Pumpkin Spice Cupcakes   ...                   Javaru\n",
              "23               Two Ingredient Pumpkin Cake   ...            Chickentarian\n",
              "24                   Chef John's Pumpkin Pie   ...                Chef John\n",
              "26   Pumpkin Bars with Cream Cheese Frosting   ...             WeibellMommy\n",
              "27                          Pumpkin Cake III   ...                 SUE CASE\n",
              "29                      Pumpkin Whoopie Pies   ...               V. Stogner\n",
              "30                          Pumpkin Brownies   ...             CroqueMadame\n",
              "31                       Pumpkin Crunch Cake   ...             Nora LaCroix\n",
              "32                     Great Pumpkin Dessert   ...                    Nancy\n",
              "33                 Mexican Pumpkin Empanadas   ...  Esther Loveall Saunders\n",
              "\n",
              "[26 rows x 6 columns]"
            ]
          },
          "metadata": {
            "tags": []
          },
          "execution_count": 10
        }
      ]
    },
    {
      "cell_type": "code",
      "metadata": {
        "colab": {
          "base_uri": "https://localhost:8080/"
        },
        "id": "uTCMiDVOvxEk",
        "outputId": "96578c62-6f85-45f5-fdfd-ceda534867a7"
      },
      "source": [
        "## d\n",
        "\n",
        "five_star_highest = wanted_recipies.max()\n",
        "five_star_highest"
      ],
      "execution_count": null,
      "outputs": [
        {
          "output_type": "execute_result",
          "data": {
            "text/plain": [
              "title                               Two Ingredient Pumpkin Cake \n",
              "recipe_url     https://www.allrecipes.com/recipe/8404/great-p...\n",
              "description     Wonderful spicy iced pumpkin cookies that bot...\n",
              "rating                                                         5\n",
              "reviews                                                     7566\n",
              "author                                              WeibellMommy\n",
              "dtype: object"
            ]
          },
          "metadata": {
            "tags": []
          },
          "execution_count": 11
        }
      ]
    },
    {
      "cell_type": "code",
      "metadata": {
        "colab": {
          "base_uri": "https://localhost:8080/",
          "height": 78
        },
        "id": "6GOB740nvxJJ",
        "outputId": "7819f071-47eb-4461-fe80-c82f9438cfb3"
      },
      "source": [
        "## e\n",
        "\n",
        "\n",
        "best_cookies_filer = wanted_recipies[\"title\"].str.contains(\"Cookie\")\n",
        "best_cookies = wanted_recipies[best_cookies_filer]\n",
        "best_cookies"
      ],
      "execution_count": null,
      "outputs": [
        {
          "output_type": "execute_result",
          "data": {
            "text/html": [
              "<div>\n",
              "<style scoped>\n",
              "    .dataframe tbody tr th:only-of-type {\n",
              "        vertical-align: middle;\n",
              "    }\n",
              "\n",
              "    .dataframe tbody tr th {\n",
              "        vertical-align: top;\n",
              "    }\n",
              "\n",
              "    .dataframe thead th {\n",
              "        text-align: right;\n",
              "    }\n",
              "</style>\n",
              "<table border=\"1\" class=\"dataframe\">\n",
              "  <thead>\n",
              "    <tr style=\"text-align: right;\">\n",
              "      <th></th>\n",
              "      <th>title</th>\n",
              "      <th>recipe_url</th>\n",
              "      <th>description</th>\n",
              "      <th>rating</th>\n",
              "      <th>reviews</th>\n",
              "      <th>author</th>\n",
              "    </tr>\n",
              "  </thead>\n",
              "  <tbody>\n",
              "    <tr>\n",
              "      <th>18</th>\n",
              "      <td>Iced Pumpkin Cookies</td>\n",
              "      <td>https://www.allrecipes.com/recipe/10033/iced-p...</td>\n",
              "      <td>Wonderful spicy iced pumpkin cookies that bot...</td>\n",
              "      <td>5</td>\n",
              "      <td>3418</td>\n",
              "      <td>Gina</td>\n",
              "    </tr>\n",
              "  </tbody>\n",
              "</table>\n",
              "</div>"
            ],
            "text/plain": [
              "                     title  ... author\n",
              "18   Iced Pumpkin Cookies   ...   Gina\n",
              "\n",
              "[1 rows x 6 columns]"
            ]
          },
          "metadata": {
            "tags": []
          },
          "execution_count": 12
        }
      ]
    },
    {
      "cell_type": "code",
      "metadata": {
        "colab": {
          "base_uri": "https://localhost:8080/",
          "height": 459
        },
        "id": "gIUk0vQ1_rOM",
        "outputId": "260cbabd-03ee-4d6c-c76a-c1f0dbb40279"
      },
      "source": [
        "## f\n",
        "\n",
        "## Using the dataframe from step (c),\n",
        "## create a scatterplot that shows the number of reviews on the x-axis and the recipe rating on the y axis.\n",
        "\n",
        "scatter = wanted_recipies.plot.scatter(x='reviews',\n",
        "                                       y='rating',\n",
        "                                       c='DarkBlue')"
      ],
      "execution_count": null,
      "outputs": [
        {
          "output_type": "display_data",
          "data": {
            "image/png": "[encoded data removed]",
            "text/plain": [
              "<Figure size 748.8x514.8 with 1 Axes>"
            ]
          },
          "metadata": {
            "tags": [],
            "image/png": {
              "width": 639,
              "height": 442
            }
          }
        }
      ]
    },
    {
      "cell_type": "markdown",
      "metadata": {
        "id": "NHdUq39tcMIq"
      },
      "source": [
        "## Task 3: Create a website that shows the recipes as a table\n",
        "\n",
        "As a final task, you are asked to create a website that shows the data retrieved from the AllRecipes website. You will need to create a webpage that shows a table with six columns (title, recipe_url, description, rating, num_reviews, author).\n",
        "\n",
        "When implementing the webpage, you can either pass to the template the variable that contains the list of dictionaries (and then iterate in the template to print the individual values, as we have done in class), or you can use the `to_html` function of Pandas, and print the table directly as HTML like that."
      ]
    },
    {
      "cell_type": "code",
      "metadata": {
        "id": "XcMyQPQ0BRqI",
        "colab": {
          "base_uri": "https://localhost:8080/"
        },
        "outputId": "96f019e0-4af9-48cc-95b4-b9764c531280"
      },
      "source": [
        "!pip install flask==0.12.2\n",
        "!pip install flask-ngrok\n",
        "\n",
        "\n"
      ],
      "execution_count": null,
      "outputs": [
        {
          "output_type": "stream",
          "text": [
            "Requirement already satisfied: flask==0.12.2 in /usr/local/lib/python3.6/dist-packages (0.12.2)\n",
            "Requirement already satisfied: itsdangerous>=0.21 in /usr/local/lib/python3.6/dist-packages (from flask==0.12.2) (1.1.0)\n",
            "Requirement already satisfied: Jinja2>=2.4 in /usr/local/lib/python3.6/dist-packages (from flask==0.12.2) (2.11.2)\n",
            "Requirement already satisfied: click>=2.0 in /usr/local/lib/python3.6/dist-packages (from flask==0.12.2) (7.1.2)\n",
            "Requirement already satisfied: Werkzeug>=0.7 in /usr/local/lib/python3.6/dist-packages (from flask==0.12.2) (1.0.1)\n",
            "Requirement already satisfied: MarkupSafe>=0.23 in /usr/local/lib/python3.6/dist-packages (from Jinja2>=2.4->flask==0.12.2) (1.1.1)\n",
            "Requirement already satisfied: flask-ngrok in /usr/local/lib/python3.6/dist-packages (0.0.25)\n",
            "Requirement already satisfied: Flask>=0.8 in /usr/local/lib/python3.6/dist-packages (from flask-ngrok) (0.12.2)\n",
            "Requirement already satisfied: requests in /usr/local/lib/python3.6/dist-packages (from flask-ngrok) (2.23.0)\n",
            "Requirement already satisfied: click>=2.0 in /usr/local/lib/python3.6/dist-packages (from Flask>=0.8->flask-ngrok) (7.1.2)\n",
            "Requirement already satisfied: Jinja2>=2.4 in /usr/local/lib/python3.6/dist-packages (from Flask>=0.8->flask-ngrok) (2.11.2)\n",
            "Requirement already satisfied: itsdangerous>=0.21 in /usr/local/lib/python3.6/dist-packages (from Flask>=0.8->flask-ngrok) (1.1.0)\n",
            "Requirement already satisfied: Werkzeug>=0.7 in /usr/local/lib/python3.6/dist-packages (from Flask>=0.8->flask-ngrok) (1.0.1)\n",
            "Requirement already satisfied: idna<3,>=2.5 in /usr/local/lib/python3.6/dist-packages (from requests->flask-ngrok) (2.10)\n",
            "Requirement already satisfied: urllib3!=1.25.0,!=1.25.1,<1.26,>=1.21.1 in /usr/local/lib/python3.6/dist-packages (from requests->flask-ngrok) (1.24.3)\n",
            "Requirement already satisfied: chardet<4,>=3.0.2 in /usr/local/lib/python3.6/dist-packages (from requests->flask-ngrok) (3.0.4)\n",
            "Requirement already satisfied: certifi>=2017.4.17 in /usr/local/lib/python3.6/dist-packages (from requests->flask-ngrok) (2020.6.20)\n",
            "Requirement already satisfied: MarkupSafe>=0.23 in /usr/local/lib/python3.6/dist-packages (from Jinja2>=2.4->Flask>=0.8->flask-ngrok) (1.1.1)\n"
          ],
          "name": "stdout"
        }
      ]
    },
    {
      "cell_type": "code",
      "metadata": {
        "id": "VTb6OLenU4UV",
        "colab": {
          "base_uri": "https://localhost:8080/"
        },
        "outputId": "cd074596-96fb-429d-d462-a4883359230a"
      },
      "source": [
        "from flask import Flask, render_template\n",
        "from flask_ngrok import run_with_ngrok\n",
        "\n",
        "\n",
        "app = Flask(__name__)\n",
        "run_with_ngrok(app)\n",
        "\n",
        "@app.route(\"/\")\n",
        "def recipies():\n",
        "    html = df.to_html()\n",
        "    return html\n",
        "\n",
        "app.run()\n",
        "\n",
        "\n",
        "\n",
        "\n"
      ],
      "execution_count": null,
      "outputs": [
        {
          "output_type": "stream",
          "text": [
            " * Running on http://127.0.0.1:5000/ (Press CTRL+C to quit)\n"
          ],
          "name": "stderr"
        },
        {
          "output_type": "stream",
          "text": [
            " * Running on http://ab7c41f93bfa.ngrok.io\n",
            " * Traffic stats available on http://127.0.0.1:4040\n"
          ],
          "name": "stdout"
        },
        {
          "output_type": "stream",
          "text": [
            "127.0.0.1 - - [18/Nov/2020 08:33:47] \"\u001b[37mGET / HTTP/1.1\u001b[0m\" 200 -\n",
            "127.0.0.1 - - [18/Nov/2020 08:33:47] \"\u001b[33mGET /favicon.ico HTTP/1.1\u001b[0m\" 404 -\n"
          ],
          "name": "stderr"
        }
      ]
    }
  ]
}